{
  "nbformat": 4,
  "nbformat_minor": 0,
  "metadata": {
    "colab": {
      "name": "Pandas_1.ipynb",
      "provenance": [],
      "collapsed_sections": [],
      "authorship_tag": "ABX9TyN7l7c21wQ5CJ4TJYQl7kWD"
    },
    "kernelspec": {
      "name": "python3",
      "display_name": "Python 3"
    },
    "language_info": {
      "name": "python"
    }
  },
  "cells": [
    {
      "cell_type": "markdown",
      "metadata": {
        "id": "Kmjv4Mnog81e"
      },
      "source": [
        "#1. Pandas 의 자료구조 : Series"
      ]
    },
    {
      "cell_type": "code",
      "metadata": {
        "colab": {
          "base_uri": "https://localhost:8080/"
        },
        "id": "WDQBGSW6hFSB",
        "outputId": "48b1cc64-148d-4538-ff8e-f4ba6f0531b5"
      },
      "source": [
        "import pandas as pd\n",
        "\n",
        "print(pd.__version__)\n",
        "\n",
        "year = ['2019', '2020', '2021', '2022'] # 문자열 형태\n",
        "result = pd.Series(data= year) #Series 대문자 잊지 않기\n",
        "\n",
        "print()\n",
        "\n",
        "print(type(result))\n",
        "print(result) # 따로 index를 저장하지 않는 경우 - 0부터 시작됨\n",
        "\n",
        "print()\n",
        "\n",
        "# Series 객체의 주요 속성\n",
        "print(result.index)\n",
        "print(result.values)\n",
        "print(result.dtype) # 문자열은 object 로 출력 \n",
        "print(result.shape) # 행-세로 열-가로 \n",
        "print()\n",
        "\n",
        "# Series 객체 이름 지정\n",
        "result.name ='year' # Series 객체(data)의 이름\n",
        "result.index.name = 'No' # Series 객체의 인덱스의 이름\n",
        "print(result)\n",
        "print()\n",
        "\n",
        "#인덱스 추가하여 Series 객체 생성하기 \n",
        "year = ['2019', '2020', '2021', '2022']\n",
        "idx = ['a', 'b', 'c', 'd']\n",
        "result = pd.Series(data=year, index = idx, name = 'year')\n",
        "print(result) \n",
        "print()\n",
        "\n",
        "# 딕셔너리 데이터로 Series 객체 생성하기\n",
        "score = {'Kim':85, 'Han':89, 'Lee':99, 'Choi':70}\n",
        "result = pd.Series(data = score , name = 'score') # index 따로 지정 안함 - 정수 0부터 순서대로 출력\n",
        "print(result)"
      ],
      "execution_count": null,
      "outputs": [
        {
          "output_type": "stream",
          "text": [
            "1.1.5\n",
            "\n",
            "<class 'pandas.core.series.Series'>\n",
            "0    2019\n",
            "1    2020\n",
            "2    2021\n",
            "3    2022\n",
            "dtype: object\n",
            "\n",
            "RangeIndex(start=0, stop=4, step=1)\n",
            "['2019' '2020' '2021' '2022']\n",
            "object\n",
            "(4,)\n",
            "\n",
            "No\n",
            "0    2019\n",
            "1    2020\n",
            "2    2021\n",
            "3    2022\n",
            "Name: year, dtype: object\n",
            "\n",
            "a    2019\n",
            "b    2020\n",
            "c    2021\n",
            "d    2022\n",
            "Name: year, dtype: object\n",
            "\n",
            "Kim     85\n",
            "Han     89\n",
            "Lee     99\n",
            "Choi    70\n",
            "Name: score, dtype: int64\n"
          ],
          "name": "stdout"
        }
      ]
    },
    {
      "cell_type": "code",
      "metadata": {
        "id": "oZP8zk05himg"
      },
      "source": [
        "year = ['2018','2019','2020','2021']\n",
        "result = pd.Series(data = year)"
      ],
      "execution_count": null,
      "outputs": []
    },
    {
      "cell_type": "markdown",
      "metadata": {
        "id": "zr-LoURGjZ28"
      },
      "source": [
        "#2. Pandas 의 자료구조 : DataFrame"
      ]
    },
    {
      "cell_type": "code",
      "metadata": {
        "colab": {
          "base_uri": "https://localhost:8080/"
        },
        "id": "oOViywjBj47i",
        "outputId": "e85b4786-09b8-4e8f-e50c-afa3a5f1c882"
      },
      "source": [
        "import pandas as pd\n",
        "\n",
        "# DataFrame 생성하기\n",
        "score ={'name':['kim','lee','park','cho'],\n",
        "         'score':[100, 43,22,11],\n",
        "         'grade':['A','A','B','C']}\n",
        "\n",
        "dp = pd.DataFrame(data = score)\n",
        "print(type(dp))\n",
        "print(dp)\n",
        "print()\n",
        "\n",
        "# DataFrame 주요 속성\n",
        "print(dp.index)  # 행의 역할 \n",
        "print(dp.columns) # 열의 역할\n",
        "print(dp.values) \n",
        "\n",
        "#DataFrame 주요 속성 \n",
        "print(dp.dtypes)\n",
        "print(dp.shape) # 행,열 -> index, columns\n",
        "print()\n",
        "\n",
        "# DataFrame 생성하기\n",
        "score = {'name': ['Jessi', 'Emma', 'Alex', 'Tom'],\n",
        "         'score': [100, 95, 80, 85],\n",
        "         'grade': ['A', 'A', 'B', 'B']}     \n",
        "i = ['a', 'b', 'c', 'd']\n",
        "c = ['score', 'grade', 'name', 'email']\n",
        "        \n",
        "dp = pd.DataFrame(data = score, index = i , columns= c)\n",
        "print(dp)\n",
        "print()\n"
      ],
      "execution_count": null,
      "outputs": [
        {
          "output_type": "stream",
          "text": [
            "<class 'pandas.core.frame.DataFrame'>\n",
            "   name  score grade\n",
            "0   kim    100     A\n",
            "1   lee     43     A\n",
            "2  park     22     B\n",
            "3   cho     11     C\n",
            "\n",
            "RangeIndex(start=0, stop=4, step=1)\n",
            "Index(['name', 'score', 'grade'], dtype='object')\n",
            "[['kim' 100 'A']\n",
            " ['lee' 43 'A']\n",
            " ['park' 22 'B']\n",
            " ['cho' 11 'C']]\n",
            "name     object\n",
            "score     int64\n",
            "grade    object\n",
            "dtype: object\n",
            "(4, 3)\n",
            "\n",
            "   score grade   name email\n",
            "a    100     A  Jessi   NaN\n",
            "b     95     A   Emma   NaN\n",
            "c     80     B   Alex   NaN\n",
            "d     85     B    Tom   NaN\n"
          ],
          "name": "stdout"
        }
      ]
    },
    {
      "cell_type": "markdown",
      "metadata": {
        "id": "jswm-vR53Ykq"
      },
      "source": [
        "#3. DataFrame 살펴보기"
      ]
    },
    {
      "cell_type": "code",
      "metadata": {
        "colab": {
          "base_uri": "https://localhost:8080/"
        },
        "id": "0vTzKlkw3qdm",
        "outputId": "2b3dc969-93d0-43e9-c999-283796116c81"
      },
      "source": [
        "import pandas as pd\n",
        "\n",
        "#실습 데이터 생성\n",
        "score =  {'name': ['Jessi', 'Emma', 'Alex', 'Jessi', 'Tom'],\n",
        "         'score': [100, 95, 80, 85, 97],\n",
        "         'grade': ['A', 'A', 'B', 'B', 'A'],\n",
        "         'subject':['python', 'java', 'python', 'c', 'java']}\n",
        "\n",
        "score_df = pd.DataFrame(data = score)\n",
        "print(score_df)\n",
        "\n",
        "\n",
        "# info 함수- 가장 많이 사용되는 함수 \n",
        "print(score_df.info()) # data의 여러가지 정보를 알려주는 함수로\n",
        "# 이때 entries 의 수를 가장 많이 본다 - 많은 양의 데이터 수를  한번에 모두 알아볼 수 없기때문에\n",
        "\n",
        "print()\n",
        "\n",
        "# head 함수  - 첫번째 행부터 출력하고자 하는 행의 개수 \n",
        "print(score_df.head(3))\n",
        "\n",
        "# tail 함수 - 마지막 행부터 출력하고자 하는 행의 개수 \n",
        "print(score_df.tail(2))\n",
        "\n",
        "print()\n",
        "\n",
        "# sample 함수 - random 으로 한가지의 행을 출력하는 함수 즉, 예시를 뽑는 함수\n",
        "print(\"random:\",score_df.sample())\n",
        "\n",
        "# sample 함수 + random_state(n) - n에 임의의 정수를 넣으면 랜던값이 고정되게 출력\n",
        "print(\"항상 고정 random 값:\", score_df.sample(2, random_state=10)) # 임의로 10이라고 고정 \n",
        "\n",
        "# flac 함수 : 임의의 행데이터 n 개를 램던으로 반환하는 함수 - sample 함수\n",
        "#           : 이때 frac = n 에 임의의 [0~1] 사이의 값을 대입하면 총 데이터 값에서 비율만큼 출력\n",
        "#           ex> data = 5 개 에서 n=0.5(50%) 라면 2개만  랜덤으로 행 출력 \n",
        "#           ex> n=0.2 라면 5개중에 20% 이므로 1개만 랜덤으로 행 출력 \n",
        "\n",
        "print(\"비율로 출력:\", score_df.sample(frac = 0.2))"
      ],
      "execution_count": null,
      "outputs": [
        {
          "output_type": "stream",
          "text": [
            "    name  score grade subject\n",
            "0  Jessi    100     A  python\n",
            "1   Emma     95     A    java\n",
            "2   Alex     80     B  python\n",
            "3  Jessi     85     B       c\n",
            "4    Tom     97     A    java\n",
            "<class 'pandas.core.frame.DataFrame'>\n",
            "RangeIndex: 5 entries, 0 to 4\n",
            "Data columns (total 4 columns):\n",
            " #   Column   Non-Null Count  Dtype \n",
            "---  ------   --------------  ----- \n",
            " 0   name     5 non-null      object\n",
            " 1   score    5 non-null      int64 \n",
            " 2   grade    5 non-null      object\n",
            " 3   subject  5 non-null      object\n",
            "dtypes: int64(1), object(3)\n",
            "memory usage: 288.0+ bytes\n",
            "None\n",
            "\n",
            "    name  score grade subject\n",
            "0  Jessi    100     A  python\n",
            "1   Emma     95     A    java\n",
            "2   Alex     80     B  python\n",
            "    name  score grade subject\n",
            "3  Jessi     85     B       c\n",
            "4    Tom     97     A    java\n",
            "\n",
            "random:    name  score grade subject\n",
            "1  Emma     95     A    java\n",
            "항상 고정 random 값:     name  score grade subject\n",
            "2   Alex     80     B  python\n",
            "3  Jessi     85     B       c\n",
            "비율로 출력:     name  score grade subject\n",
            "3  Jessi     85     B       c\n"
          ],
          "name": "stdout"
        }
      ]
    },
    {
      "cell_type": "markdown",
      "metadata": {
        "id": "Stn2QvytBwmJ"
      },
      "source": [
        "#4. 수치형과 범주형 데이터"
      ]
    },
    {
      "cell_type": "code",
      "metadata": {
        "colab": {
          "base_uri": "https://localhost:8080/"
        },
        "id": "Dn6V0GuDCXIw",
        "outputId": "00a7157e-4c51-4af0-eb8d-324ff7ecb1b6"
      },
      "source": [
        "import pandas as pd\n",
        "\n",
        "# 실습 데이터 생성\n",
        "score = {'name': ['Jessi', 'Emma', 'Alex', 'Jessi', 'Tom'],\n",
        "         'age': [20, 24, 23, 20, 27],\n",
        "         'score': [100, 95, 80, 85, 97],\n",
        "         'grade': ['A', 'A', 'B', 'B', 'A'],\n",
        "         'subject':['python', 'java', 'python', 'c', 'java']}\n",
        "\n",
        "score_df = pd.DataFrame(data=score)\n",
        "print(score_df)\n",
        "\n",
        "# 실습 데이터에서 name, grade, subject - 범주형\n",
        "# age , score - 수치형\n",
        "\n",
        "# describe()- 수치형, 범주형 모두 사용 가능한 함수 \n",
        "# 여러가지의 수치형 데이터의 수치값들을 표현해주는 함수 \n",
        "print(score_df.describe())\n",
        "\n",
        "# describ - 데이터 2개 이상 출력 할 때 -[[]] 를 사용 - 무저권!\n",
        "print(score_df[['grade','subject']].describe()) \n",
        "# 1.count - 각 데이터에 있는 데이터의 개수 \n",
        "# 2. unique - 각 데이터에 있는 데이터 종류의 수\n",
        "# 3. top- 제일 많은 종류의 데이터\n",
        "#4. freq - top 데이터의 개수 \n",
        "\n",
        "print()\n",
        "\n",
        "# describe(include= 'all') 함수 \n",
        "# 범주형, 수치형 가리지 않고 출력 - 각자 계산이 안되는 부분은 NaN 으로 출력\n",
        "print(score_df.describe(include='all'))\n",
        "\n",
        "print(\"--------\",score_df.count())\n",
        "\n",
        "print()\n",
        "\n",
        "#unique() 함수 - data 의 종류를 출력 \n",
        "print(score_df['subject'].unique())\n",
        "\n",
        "print()\n",
        "# value_counts 함수 - data 종류의 값을 세는 함수\n",
        "print(score_df['subject'].value_counts()) # count's' 를 자꾸 빼먹음 주의\n",
        "\n",
        "print()\n",
        "# value_counts(normalize = True ) 함수 사용법 \n",
        "# 데이터의 빈도수를 확률로 나타냄 , 모든 data 의 비율의 합 = 1\n",
        "print(score_df['subject'].value_counts(normalize = True))"
      ],
      "execution_count": null,
      "outputs": [
        {
          "output_type": "stream",
          "text": [
            "    name  age  score grade subject\n",
            "0  Jessi   20    100     A  python\n",
            "1   Emma   24     95     A    java\n",
            "2   Alex   23     80     B  python\n",
            "3  Jessi   20     85     B       c\n",
            "4    Tom   27     97     A    java\n",
            "             age       score\n",
            "count   5.000000    5.000000\n",
            "mean   22.800000   91.400000\n",
            "std     2.949576    8.502941\n",
            "min    20.000000   80.000000\n",
            "25%    20.000000   85.000000\n",
            "50%    23.000000   95.000000\n",
            "75%    24.000000   97.000000\n",
            "max    27.000000  100.000000\n",
            "       grade subject\n",
            "count      5       5\n",
            "unique     2       3\n",
            "top        A  python\n",
            "freq       3       2\n",
            "\n",
            "         name        age       score grade subject\n",
            "count       5   5.000000    5.000000     5       5\n",
            "unique      4        NaN         NaN     2       3\n",
            "top     Jessi        NaN         NaN     A  python\n",
            "freq        2        NaN         NaN     3       2\n",
            "mean      NaN  22.800000   91.400000   NaN     NaN\n",
            "std       NaN   2.949576    8.502941   NaN     NaN\n",
            "min       NaN  20.000000   80.000000   NaN     NaN\n",
            "25%       NaN  20.000000   85.000000   NaN     NaN\n",
            "50%       NaN  23.000000   95.000000   NaN     NaN\n",
            "75%       NaN  24.000000   97.000000   NaN     NaN\n",
            "max       NaN  27.000000  100.000000   NaN     NaN\n",
            "-------- name       5\n",
            "age        5\n",
            "score      5\n",
            "grade      5\n",
            "subject    5\n",
            "dtype: int64\n",
            "\n",
            "['python' 'java' 'c']\n",
            "\n",
            "python    2\n",
            "java      2\n",
            "c         1\n",
            "Name: subject, dtype: int64\n",
            "\n",
            "python    0.4\n",
            "java      0.4\n",
            "c         0.2\n",
            "Name: subject, dtype: float64\n"
          ],
          "name": "stdout"
        }
      ]
    },
    {
      "cell_type": "markdown",
      "metadata": {
        "id": "1itaA48cFDXB"
      },
      "source": [
        "#5. 데이터 조회 및 변경"
      ]
    },
    {
      "cell_type": "code",
      "metadata": {
        "colab": {
          "base_uri": "https://localhost:8080/"
        },
        "id": "Y9viUsXCFZBD",
        "outputId": "a1b63d22-9e7f-40d9-effa-1d1bc172ba27"
      },
      "source": [
        "import pandas as pd\n",
        "\n",
        "# 실습 데이터 생성\n",
        "score = {'name': ['Jessi', 'Emma', 'Alex', 'Jessi', 'Tom'],\n",
        "         'score': [100, 95, 80, 85, 97],\n",
        "         'grade': ['A', 'A', 'B', 'B', 'A'],\n",
        "         'subject':['python', 'java', 'python', 'c', 'java']}\n",
        "c = ['name', 'subject', 'score', 'grade', 'etc']\n",
        "\n",
        "df = pd.DataFrame(data=score, columns=c)\n",
        "print(df)\n",
        "\n",
        "# 인덱싱기법 -[]\n",
        "print(df['name']) #[]을 사용할때에는 '' 을 꼭 사용 \n",
        "# 점연산자 기법 -.\n",
        "print(df.name)  # 연산자기법을 사용할때는 '' 사용 안함\n",
        "\n",
        "# 타입 출력하여 확인\n",
        "print(type(df.name)) \n",
        "\n",
        "print()\n",
        "\n",
        "# 다중 열 데이터 조회 실습 \n",
        "# 데이터 2개 이상이면 [[]] 기법을 사용해야 하는데 \n",
        "# 첫번째 []- 인덱싱 기법이고 두번째 []는 list를쓴것\n",
        "print(df[['name','score','grade']])\n",
        "\n",
        "print()\n",
        "\n",
        "# 열 데이터 값 변환 -인덱싱 기법 사용\n",
        "df['etc'] = 0\n",
        "print(df)\n",
        "\n",
        "# loc 이용하여 행 데이터 조회 실습\n",
        "print(\"ex:\",df.loc[3]) #n -> 조회하고자 하는 행의 인텍스 값 \n",
        "\n",
        "# loc 를 이용한 다중 데이터 조회 ->다중이기에 [[]] 사용 \n",
        "print(df.loc[[2,3]]) \n",
        "\n",
        "\n",
        "# loc 를 이용한 특정 행 데이터 변경\n",
        "# df.loc[0] = ['a','b','c'] - 이때 리스트 안에 원래 데이터와 맞지 않으면 error 발생\n",
        "df.loc[0] = ['Jessi', 'java', 70, 'C', 1] # 알맞은 데이터 값을 넣어줘야 올바르게 변경됨\n",
        "print(df) \n",
        "\n",
        "print()\n",
        "\n",
        "#loc 를 이용한 행과 열 동시에 지정하여 원하는 값d\n",
        "row_idx = [1,2,4]\n",
        "col_idx = ['name', 'subject', 'grade']\n",
        "print(df.loc[row_idx,col_idx])\n"
      ],
      "execution_count": null,
      "outputs": [
        {
          "output_type": "stream",
          "text": [
            "    name subject  score grade  etc\n",
            "0  Jessi  python    100     A  NaN\n",
            "1   Emma    java     95     A  NaN\n",
            "2   Alex  python     80     B  NaN\n",
            "3  Jessi       c     85     B  NaN\n",
            "4    Tom    java     97     A  NaN\n",
            "0    Jessi\n",
            "1     Emma\n",
            "2     Alex\n",
            "3    Jessi\n",
            "4      Tom\n",
            "Name: name, dtype: object\n",
            "0    Jessi\n",
            "1     Emma\n",
            "2     Alex\n",
            "3    Jessi\n",
            "4      Tom\n",
            "Name: name, dtype: object\n",
            "<class 'pandas.core.series.Series'>\n",
            "\n",
            "    name  score grade\n",
            "0  Jessi    100     A\n",
            "1   Emma     95     A\n",
            "2   Alex     80     B\n",
            "3  Jessi     85     B\n",
            "4    Tom     97     A\n",
            "\n",
            "    name subject  score grade  etc\n",
            "0  Jessi  python    100     A    0\n",
            "1   Emma    java     95     A    0\n",
            "2   Alex  python     80     B    0\n",
            "3  Jessi       c     85     B    0\n",
            "4    Tom    java     97     A    0\n",
            "ex: name       Jessi\n",
            "subject        c\n",
            "score         85\n",
            "grade          B\n",
            "etc            0\n",
            "Name: 3, dtype: object\n",
            "    name subject  score grade  etc\n",
            "2   Alex  python     80     B    0\n",
            "3  Jessi       c     85     B    0\n",
            "    name subject  score grade  etc\n",
            "0  Jessi    java     70     C    1\n",
            "1   Emma    java     95     A    0\n",
            "2   Alex  python     80     B    0\n",
            "3  Jessi       c     85     B    0\n",
            "4    Tom    java     97     A    0\n",
            "\n",
            "   name subject grade\n",
            "1  Emma    java     A\n",
            "2  Alex  python     B\n",
            "4   Tom    java     A\n"
          ],
          "name": "stdout"
        }
      ]
    },
    {
      "cell_type": "markdown",
      "metadata": {
        "id": "6Ib9Zn22hDi0"
      },
      "source": [
        "#6. 데이터 추가 및 삭제"
      ]
    },
    {
      "cell_type": "code",
      "metadata": {
        "colab": {
          "base_uri": "https://localhost:8080/"
        },
        "id": "_lzuI6RwhIAA",
        "outputId": "906a55b7-3a0b-4f63-b982-a606be5362dc"
      },
      "source": [
        "import pandas as pd\n",
        "\n",
        "# 실습 데이터 생성\n",
        "score = {'name': ['Jessi', 'Emma', 'Alex', 'Jessi', 'Tom'],\n",
        "         'score': [100, 95, 80, 85, 97],\n",
        "         'grade': ['A', 'A', 'B', 'B', 'A'],\n",
        "         'subject':['python', 'java', 'python', 'c', 'java']}\n",
        "c = ['name', 'subject', 'score', 'grade', 'etc']\n",
        "df = pd.DataFrame(data=score, columns=c)\n",
        "print(df)\n",
        "\n",
        "\n",
        "# 새로운 colmns 와 내용 추가 - 열 추가 \n",
        "semester_data = pd.Series(['20-01', '20-01', '20-02', '20-01'])\n",
        "df['semester'] = semester_data\n",
        "print(df)\n",
        "\n",
        "print()\n",
        "\n",
        "# 비교 연산자를 이용한 새 columns 추가 \n",
        "# 연산자를 사용했을 때의 결과값은 true , false 로 나뉜다.  \n",
        "df['high_score'] = df['score'] > 90 \n",
        "print(df)\n",
        "\n",
        "print()\n",
        "\n",
        "# 새로운 행 추가 - loc 사용\n",
        "df.loc[6] = ['Jina', 'python', 100, 'A', 1, '20-02', True]\n",
        "print(df)\n",
        "print()\n",
        "\n",
        "# drop() 를 이용한 행 삭제 함수 \n",
        "df.drop(6)\n",
        "print(df) # 삭제된 상태의 원본데이터를 뽑게되면 수정되지 않도록 나옴\n",
        "          # pandas 도 numpy 와 마찬가지로 원본데이터는 바뀌지않으며\n",
        "          # 새로운 변수를 생성해서 대입후 그 데이터를 출력해야 바뀐 데이터값을 볼 수 있다.\n",
        "\n",
        "print()\n",
        "\n",
        "# inplace 를 이용해 원본도 삭제하는 방법\n",
        "df.drop(6, inplace= True)\n",
        "print(df)\n",
        "\n",
        "print()\n",
        "\n",
        "# drop() 을 이용하여 원하는 열삭제 & 원본데이터 삭제 하는 방법 \n",
        "#  행 삭제는 그냥 drop() 호출하면 끝\n",
        "#  열은 columns=[] 을 호출해야함\n",
        "df.drop(columns = ['etc'], inplace= True)\n",
        "print(df)"
      ],
      "execution_count": 1,
      "outputs": [
        {
          "output_type": "stream",
          "name": "stdout",
          "text": [
            "    name subject  score grade  etc\n",
            "0  Jessi  python    100     A  NaN\n",
            "1   Emma    java     95     A  NaN\n",
            "2   Alex  python     80     B  NaN\n",
            "3  Jessi       c     85     B  NaN\n",
            "4    Tom    java     97     A  NaN\n",
            "    name subject  score grade  etc semester\n",
            "0  Jessi  python    100     A  NaN    20-01\n",
            "1   Emma    java     95     A  NaN    20-01\n",
            "2   Alex  python     80     B  NaN    20-02\n",
            "3  Jessi       c     85     B  NaN    20-01\n",
            "4    Tom    java     97     A  NaN      NaN\n",
            "\n",
            "    name subject  score grade  etc semester  high_score\n",
            "0  Jessi  python    100     A  NaN    20-01        True\n",
            "1   Emma    java     95     A  NaN    20-01        True\n",
            "2   Alex  python     80     B  NaN    20-02       False\n",
            "3  Jessi       c     85     B  NaN    20-01       False\n",
            "4    Tom    java     97     A  NaN      NaN        True\n",
            "\n",
            "    name subject  score grade  etc semester  high_score\n",
            "0  Jessi  python    100     A  NaN    20-01        True\n",
            "1   Emma    java     95     A  NaN    20-01        True\n",
            "2   Alex  python     80     B  NaN    20-02       False\n",
            "3  Jessi       c     85     B  NaN    20-01       False\n",
            "4    Tom    java     97     A  NaN      NaN        True\n",
            "6   Jina  python    100     A    1    20-02        True\n",
            "\n",
            "    name subject  score grade  etc semester  high_score\n",
            "0  Jessi  python    100     A  NaN    20-01        True\n",
            "1   Emma    java     95     A  NaN    20-01        True\n",
            "2   Alex  python     80     B  NaN    20-02       False\n",
            "3  Jessi       c     85     B  NaN    20-01       False\n",
            "4    Tom    java     97     A  NaN      NaN        True\n",
            "6   Jina  python    100     A    1    20-02        True\n",
            "\n",
            "    name subject  score grade  etc semester  high_score\n",
            "0  Jessi  python    100     A  NaN    20-01        True\n",
            "1   Emma    java     95     A  NaN    20-01        True\n",
            "2   Alex  python     80     B  NaN    20-02       False\n",
            "3  Jessi       c     85     B  NaN    20-01       False\n",
            "4    Tom    java     97     A  NaN      NaN        True\n",
            "\n",
            "    name subject  score grade semester  high_score\n",
            "0  Jessi  python    100     A    20-01        True\n",
            "1   Emma    java     95     A    20-01        True\n",
            "2   Alex  python     80     B    20-02       False\n",
            "3  Jessi       c     85     B    20-01       False\n",
            "4    Tom    java     97     A      NaN        True\n"
          ]
        }
      ]
    },
    {
      "cell_type": "code",
      "metadata": {
        "id": "K-3bBI_ehLpY"
      },
      "source": [
        ""
      ],
      "execution_count": null,
      "outputs": []
    }
  ]
}