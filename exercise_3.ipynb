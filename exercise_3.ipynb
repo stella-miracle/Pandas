{
  "nbformat": 4,
  "nbformat_minor": 0,
  "metadata": {
    "colab": {
      "name": "exercise_3.ipynb",
      "provenance": [],
      "collapsed_sections": [],
      "authorship_tag": "ABX9TyPGhulj5NkJU7zu4ovv0y5T"
    },
    "kernelspec": {
      "name": "python3",
      "display_name": "Python 3"
    },
    "language_info": {
      "name": "python"
    }
  },
  "cells": [
    {
      "cell_type": "markdown",
      "metadata": {
        "id": "a4CVIIYTGCLm"
      },
      "source": [
        "#데이터 결합"
      ]
    },
    {
      "cell_type": "code",
      "metadata": {
        "id": "e6-6Ue96GZJg"
      },
      "source": [
        "import pandas as pd\n",
        "import numpy as np\n",
        "import matplotlib.pyplot as plt\n"
      ],
      "execution_count": 1,
      "outputs": []
    },
    {
      "cell_type": "code",
      "metadata": {
        "id": "OC5cpVK6GIvd"
      },
      "source": [
        "# 제공 - codepresso\n",
        "url =  'https://codepresso-online-platform-public.s3.ap-northeast-2.amazonaws.com/learning-resourse/python-data-analysis/bike_station_2101.csv'"
      ],
      "execution_count": 2,
      "outputs": []
    },
    {
      "cell_type": "code",
      "metadata": {
        "id": "sMhN4mErGegC"
      },
      "source": [
        "data = pd.read_csv(url,encoding=\"cp949\")\n"
      ],
      "execution_count": 3,
      "outputs": []
    },
    {
      "cell_type": "code",
      "metadata": {
        "colab": {
          "base_uri": "https://localhost:8080/",
          "height": 308
        },
        "id": "Omr4JXoaGBpt",
        "outputId": "cd39a7d6-947b-4bae-b699-92db356fe46f"
      },
      "source": [
        "data.head()"
      ],
      "execution_count": 4,
      "outputs": [
        {
          "output_type": "execute_result",
          "data": {
            "text/html": [
              "<div>\n",
              "<style scoped>\n",
              "    .dataframe tbody tr th:only-of-type {\n",
              "        vertical-align: middle;\n",
              "    }\n",
              "\n",
              "    .dataframe tbody tr th {\n",
              "        vertical-align: top;\n",
              "    }\n",
              "\n",
              "    .dataframe thead th {\n",
              "        text-align: right;\n",
              "    }\n",
              "</style>\n",
              "<table border=\"1\" class=\"dataframe\">\n",
              "  <thead>\n",
              "    <tr style=\"text-align: right;\">\n",
              "      <th></th>\n",
              "      <th>대여소\\n번호</th>\n",
              "      <th>보관소(대여소)명</th>\n",
              "      <th>소재지(위치)</th>\n",
              "      <th>Unnamed: 3</th>\n",
              "      <th>Unnamed: 4</th>\n",
              "      <th>Unnamed: 5</th>\n",
              "      <th>설치\\n시기</th>\n",
              "      <th>설치형태</th>\n",
              "      <th>Unnamed: 8</th>\n",
              "      <th>운영\\n방식</th>\n",
              "    </tr>\n",
              "  </thead>\n",
              "  <tbody>\n",
              "    <tr>\n",
              "      <th>0</th>\n",
              "      <td>NaN</td>\n",
              "      <td>NaN</td>\n",
              "      <td>NaN</td>\n",
              "      <td>NaN</td>\n",
              "      <td>NaN</td>\n",
              "      <td>NaN</td>\n",
              "      <td>NaN</td>\n",
              "      <td>LCD</td>\n",
              "      <td>QR</td>\n",
              "      <td>NaN</td>\n",
              "    </tr>\n",
              "    <tr>\n",
              "      <th>1</th>\n",
              "      <td>NaN</td>\n",
              "      <td>NaN</td>\n",
              "      <td>자치구</td>\n",
              "      <td>상세주소</td>\n",
              "      <td>위도</td>\n",
              "      <td>경도</td>\n",
              "      <td>NaN</td>\n",
              "      <td>NaN</td>\n",
              "      <td>NaN</td>\n",
              "      <td>NaN</td>\n",
              "    </tr>\n",
              "    <tr>\n",
              "      <th>2</th>\n",
              "      <td>NaN</td>\n",
              "      <td>NaN</td>\n",
              "      <td>NaN</td>\n",
              "      <td>NaN</td>\n",
              "      <td>NaN</td>\n",
              "      <td>NaN</td>\n",
              "      <td>NaN</td>\n",
              "      <td>거치\\n대수</td>\n",
              "      <td>거치\\n대수</td>\n",
              "      <td>NaN</td>\n",
              "    </tr>\n",
              "    <tr>\n",
              "      <th>3</th>\n",
              "      <td>NaN</td>\n",
              "      <td>NaN</td>\n",
              "      <td>NaN</td>\n",
              "      <td>NaN</td>\n",
              "      <td>NaN</td>\n",
              "      <td>NaN</td>\n",
              "      <td>NaN</td>\n",
              "      <td>NaN</td>\n",
              "      <td>NaN</td>\n",
              "      <td>NaN</td>\n",
              "    </tr>\n",
              "    <tr>\n",
              "      <th>4</th>\n",
              "      <td>301.0</td>\n",
              "      <td>경복궁역 7번출구 앞</td>\n",
              "      <td>종로구</td>\n",
              "      <td>서울특별시 종로구 사직로 지하130</td>\n",
              "      <td>37.575794</td>\n",
              "      <td>126.971451</td>\n",
              "      <td>2015-10-07</td>\n",
              "      <td>16</td>\n",
              "      <td>NaN</td>\n",
              "      <td>LCD</td>\n",
              "    </tr>\n",
              "  </tbody>\n",
              "</table>\n",
              "</div>"
            ],
            "text/plain": [
              "   대여소\\n번호    보관소(대여소)명 소재지(위치)  ...    설치형태 Unnamed: 8 운영\\n방식\n",
              "0      NaN          NaN     NaN  ...     LCD         QR    NaN\n",
              "1      NaN          NaN     자치구  ...     NaN        NaN    NaN\n",
              "2      NaN          NaN     NaN  ...  거치\\n대수     거치\\n대수    NaN\n",
              "3      NaN          NaN     NaN  ...     NaN        NaN    NaN\n",
              "4    301.0  경복궁역 7번출구 앞     종로구  ...      16        NaN    LCD\n",
              "\n",
              "[5 rows x 10 columns]"
            ]
          },
          "metadata": {},
          "execution_count": 4
        }
      ]
    },
    {
      "cell_type": "code",
      "metadata": {
        "colab": {
          "base_uri": "https://localhost:8080/"
        },
        "id": "I73JMY5fJJr9",
        "outputId": "dba8c538-157e-4999-eda4-f2171adeaa5c"
      },
      "source": [
        "data.columns"
      ],
      "execution_count": 5,
      "outputs": [
        {
          "output_type": "execute_result",
          "data": {
            "text/plain": [
              "Index(['대여소\\n번호', '보관소(대여소)명', '소재지(위치)', 'Unnamed: 3', 'Unnamed: 4',\n",
              "       'Unnamed: 5', '설치\\n시기', '설치형태', 'Unnamed: 8', '운영\\n방식'],\n",
              "      dtype='object')"
            ]
          },
          "metadata": {},
          "execution_count": 5
        }
      ]
    },
    {
      "cell_type": "code",
      "metadata": {
        "id": "EJJocQ5NJgAM"
      },
      "source": [
        "# 슬라이싱을 이용한 필요한 column 만 출력하기\n",
        "data.drop(['설치\\n시기','설치형태','Unnamed: 8','운영\\n방식'],axis=1, inplace = True)"
      ],
      "execution_count": 6,
      "outputs": []
    },
    {
      "cell_type": "code",
      "metadata": {
        "id": "UmQ4pQYfJg01"
      },
      "source": [
        "# 컬럼명 rename\n",
        "data.rename(columns={'대여소\\n번호':'대여소번호',\n",
        "                     '보관소(대여소)명':'보관소',\n",
        "                     '소재지(위치)':'소재지',\n",
        "                     'Unnamed: 3':'주소',\n",
        "                     'Unnamed: 4':'위도',\n",
        "                     'Unnamed: 5':'경도'},inplace=True)"
      ],
      "execution_count": 7,
      "outputs": []
    },
    {
      "cell_type": "code",
      "metadata": {
        "colab": {
          "base_uri": "https://localhost:8080/",
          "height": 421
        },
        "id": "rb2nGkKiLaMS",
        "outputId": "d52f8928-12b1-4c62-9479-db921c852fb9"
      },
      "source": [
        "data"
      ],
      "execution_count": 8,
      "outputs": [
        {
          "output_type": "execute_result",
          "data": {
            "text/html": [
              "<div>\n",
              "<style scoped>\n",
              "    .dataframe tbody tr th:only-of-type {\n",
              "        vertical-align: middle;\n",
              "    }\n",
              "\n",
              "    .dataframe tbody tr th {\n",
              "        vertical-align: top;\n",
              "    }\n",
              "\n",
              "    .dataframe thead th {\n",
              "        text-align: right;\n",
              "    }\n",
              "</style>\n",
              "<table border=\"1\" class=\"dataframe\">\n",
              "  <thead>\n",
              "    <tr style=\"text-align: right;\">\n",
              "      <th></th>\n",
              "      <th>대여소번호</th>\n",
              "      <th>보관소</th>\n",
              "      <th>소재지</th>\n",
              "      <th>주소</th>\n",
              "      <th>위도</th>\n",
              "      <th>경도</th>\n",
              "    </tr>\n",
              "  </thead>\n",
              "  <tbody>\n",
              "    <tr>\n",
              "      <th>0</th>\n",
              "      <td>NaN</td>\n",
              "      <td>NaN</td>\n",
              "      <td>NaN</td>\n",
              "      <td>NaN</td>\n",
              "      <td>NaN</td>\n",
              "      <td>NaN</td>\n",
              "    </tr>\n",
              "    <tr>\n",
              "      <th>1</th>\n",
              "      <td>NaN</td>\n",
              "      <td>NaN</td>\n",
              "      <td>자치구</td>\n",
              "      <td>상세주소</td>\n",
              "      <td>위도</td>\n",
              "      <td>경도</td>\n",
              "    </tr>\n",
              "    <tr>\n",
              "      <th>2</th>\n",
              "      <td>NaN</td>\n",
              "      <td>NaN</td>\n",
              "      <td>NaN</td>\n",
              "      <td>NaN</td>\n",
              "      <td>NaN</td>\n",
              "      <td>NaN</td>\n",
              "    </tr>\n",
              "    <tr>\n",
              "      <th>3</th>\n",
              "      <td>NaN</td>\n",
              "      <td>NaN</td>\n",
              "      <td>NaN</td>\n",
              "      <td>NaN</td>\n",
              "      <td>NaN</td>\n",
              "      <td>NaN</td>\n",
              "    </tr>\n",
              "    <tr>\n",
              "      <th>4</th>\n",
              "      <td>301.0</td>\n",
              "      <td>경복궁역 7번출구 앞</td>\n",
              "      <td>종로구</td>\n",
              "      <td>서울특별시 종로구 사직로 지하130</td>\n",
              "      <td>37.575794</td>\n",
              "      <td>126.971451</td>\n",
              "    </tr>\n",
              "    <tr>\n",
              "      <th>...</th>\n",
              "      <td>...</td>\n",
              "      <td>...</td>\n",
              "      <td>...</td>\n",
              "      <td>...</td>\n",
              "      <td>...</td>\n",
              "      <td>...</td>\n",
              "    </tr>\n",
              "    <tr>\n",
              "      <th>2156</th>\n",
              "      <td>1089.0</td>\n",
              "      <td>고덕 래미안힐스테이트(201동)</td>\n",
              "      <td>강동구</td>\n",
              "      <td>고덕동 675</td>\n",
              "      <td>37.560600</td>\n",
              "      <td>127.146698</td>\n",
              "    </tr>\n",
              "    <tr>\n",
              "      <th>2157</th>\n",
              "      <td>1090.0</td>\n",
              "      <td>상일동역 2번출구 앞</td>\n",
              "      <td>강동구</td>\n",
              "      <td>고덕로 333</td>\n",
              "      <td>37.556789</td>\n",
              "      <td>127.166145</td>\n",
              "    </tr>\n",
              "    <tr>\n",
              "      <th>2158</th>\n",
              "      <td>NaN</td>\n",
              "      <td>NaN</td>\n",
              "      <td>NaN</td>\n",
              "      <td>NaN</td>\n",
              "      <td>NaN</td>\n",
              "      <td>NaN</td>\n",
              "    </tr>\n",
              "    <tr>\n",
              "      <th>2159</th>\n",
              "      <td>NaN</td>\n",
              "      <td>NaN</td>\n",
              "      <td>NaN</td>\n",
              "      <td>NaN</td>\n",
              "      <td>NaN</td>\n",
              "      <td>NaN</td>\n",
              "    </tr>\n",
              "    <tr>\n",
              "      <th>2160</th>\n",
              "      <td>NaN</td>\n",
              "      <td>NaN</td>\n",
              "      <td>NaN</td>\n",
              "      <td>NaN</td>\n",
              "      <td>NaN</td>\n",
              "      <td>NaN</td>\n",
              "    </tr>\n",
              "  </tbody>\n",
              "</table>\n",
              "<p>2161 rows × 6 columns</p>\n",
              "</div>"
            ],
            "text/plain": [
              "       대여소번호                보관소  ...         위도          경도\n",
              "0        NaN                NaN  ...        NaN         NaN\n",
              "1        NaN                NaN  ...         위도          경도\n",
              "2        NaN                NaN  ...        NaN         NaN\n",
              "3        NaN                NaN  ...        NaN         NaN\n",
              "4      301.0        경복궁역 7번출구 앞  ...  37.575794  126.971451\n",
              "...      ...                ...  ...        ...         ...\n",
              "2156  1089.0  고덕 래미안힐스테이트(201동)  ...  37.560600  127.146698\n",
              "2157  1090.0        상일동역 2번출구 앞  ...  37.556789  127.166145\n",
              "2158     NaN                NaN  ...        NaN         NaN\n",
              "2159     NaN                NaN  ...        NaN         NaN\n",
              "2160     NaN                NaN  ...        NaN         NaN\n",
              "\n",
              "[2161 rows x 6 columns]"
            ]
          },
          "metadata": {},
          "execution_count": 8
        }
      ]
    },
    {
      "cell_type": "code",
      "metadata": {
        "colab": {
          "base_uri": "https://localhost:8080/"
        },
        "id": "kVKQgH3XOAiH",
        "outputId": "3f3d3f05-672a-4308-ffcb-875c907c0531"
      },
      "source": [
        "data.info()"
      ],
      "execution_count": 9,
      "outputs": [
        {
          "output_type": "stream",
          "name": "stdout",
          "text": [
            "<class 'pandas.core.frame.DataFrame'>\n",
            "RangeIndex: 2161 entries, 0 to 2160\n",
            "Data columns (total 6 columns):\n",
            " #   Column  Non-Null Count  Dtype  \n",
            "---  ------  --------------  -----  \n",
            " 0   대여소번호   2154 non-null   float64\n",
            " 1   보관소     2154 non-null   object \n",
            " 2   소재지     2155 non-null   object \n",
            " 3   주소      2155 non-null   object \n",
            " 4   위도      2043 non-null   object \n",
            " 5   경도      2043 non-null   object \n",
            "dtypes: float64(1), object(5)\n",
            "memory usage: 101.4+ KB\n"
          ]
        }
      ]
    },
    {
      "cell_type": "code",
      "metadata": {
        "colab": {
          "base_uri": "https://localhost:8080/"
        },
        "id": "C4ORe_oON1PF",
        "outputId": "17e12aa8-4fb4-4df0-8e71-462ecf9561d7"
      },
      "source": [
        "data.isnull().sum()"
      ],
      "execution_count": 10,
      "outputs": [
        {
          "output_type": "execute_result",
          "data": {
            "text/plain": [
              "대여소번호      7\n",
              "보관소        7\n",
              "소재지        6\n",
              "주소         6\n",
              "위도       118\n",
              "경도       118\n",
              "dtype: int64"
            ]
          },
          "metadata": {},
          "execution_count": 10
        }
      ]
    },
    {
      "cell_type": "code",
      "metadata": {
        "id": "GCQ6zDm5N8e9"
      },
      "source": [
        "# 1. 결측치 제거 - 모든 행 데이터가 결측치인 경우의 데이터 제거\n",
        "data.dropna(inplace=True)"
      ],
      "execution_count": 11,
      "outputs": []
    },
    {
      "cell_type": "code",
      "metadata": {
        "colab": {
          "base_uri": "https://localhost:8080/"
        },
        "id": "zCwIECfMONBL",
        "outputId": "3a993f22-57e5-4a8d-9ce1-559c54f22fba"
      },
      "source": [
        "data.isnull().sum()"
      ],
      "execution_count": 12,
      "outputs": [
        {
          "output_type": "execute_result",
          "data": {
            "text/plain": [
              "대여소번호    0\n",
              "보관소      0\n",
              "소재지      0\n",
              "주소       0\n",
              "위도       0\n",
              "경도       0\n",
              "dtype: int64"
            ]
          },
          "metadata": {},
          "execution_count": 12
        }
      ]
    },
    {
      "cell_type": "markdown",
      "metadata": {
        "id": "qL5jrdO6F7YU"
      },
      "source": [
        "대여소 번호를 기준으로 결합하려면?\n",
        "\n",
        "-> 임의로 새로운 data 생성 \n",
        "\n",
        "-> merge 함수로 [\"대여번호\"] 기준으로 저장.\n",
        "    \n",
        "-> 즉, 기존 데이터 + 새로운 데이터 "
      ]
    },
    {
      "cell_type": "code",
      "metadata": {
        "id": "1n2kShNMOwVK"
      },
      "source": [
        "data[\"대여소번호\"] = data[\"대여소번호\"].astype(int)"
      ],
      "execution_count": 37,
      "outputs": []
    },
    {
      "cell_type": "code",
      "metadata": {
        "colab": {
          "base_uri": "https://localhost:8080/",
          "height": 550
        },
        "id": "W-YiCgcMGXty",
        "outputId": "fa87f737-3047-47e1-dffc-523b53e68588"
      },
      "source": [
        "# column 이름과 설정한 행의 value 값을 바꾼 새로운 데이터 생성 \n",
        "data_new = data[[\"대여소번호\",\"소재지\"]] \n",
        "# 원하는 column 값 가져오는 거 그만 좀 헷갈리기!\n",
        "data_new.loc[4:10,\"대여소번호\"]=200\n",
        "data_new"
      ],
      "execution_count": 44,
      "outputs": [
        {
          "output_type": "stream",
          "name": "stderr",
          "text": [
            "/usr/local/lib/python3.7/dist-packages/pandas/core/indexing.py:1763: SettingWithCopyWarning: \n",
            "A value is trying to be set on a copy of a slice from a DataFrame.\n",
            "Try using .loc[row_indexer,col_indexer] = value instead\n",
            "\n",
            "See the caveats in the documentation: https://pandas.pydata.org/pandas-docs/stable/user_guide/indexing.html#returning-a-view-versus-a-copy\n",
            "  isetter(loc, value)\n"
          ]
        },
        {
          "output_type": "execute_result",
          "data": {
            "text/html": [
              "<div>\n",
              "<style scoped>\n",
              "    .dataframe tbody tr th:only-of-type {\n",
              "        vertical-align: middle;\n",
              "    }\n",
              "\n",
              "    .dataframe tbody tr th {\n",
              "        vertical-align: top;\n",
              "    }\n",
              "\n",
              "    .dataframe thead th {\n",
              "        text-align: right;\n",
              "    }\n",
              "</style>\n",
              "<table border=\"1\" class=\"dataframe\">\n",
              "  <thead>\n",
              "    <tr style=\"text-align: right;\">\n",
              "      <th></th>\n",
              "      <th>대여소번호</th>\n",
              "      <th>소재지</th>\n",
              "    </tr>\n",
              "  </thead>\n",
              "  <tbody>\n",
              "    <tr>\n",
              "      <th>4</th>\n",
              "      <td>200</td>\n",
              "      <td>종로구</td>\n",
              "    </tr>\n",
              "    <tr>\n",
              "      <th>5</th>\n",
              "      <td>200</td>\n",
              "      <td>종로구</td>\n",
              "    </tr>\n",
              "    <tr>\n",
              "      <th>6</th>\n",
              "      <td>200</td>\n",
              "      <td>종로구</td>\n",
              "    </tr>\n",
              "    <tr>\n",
              "      <th>7</th>\n",
              "      <td>200</td>\n",
              "      <td>종로구</td>\n",
              "    </tr>\n",
              "    <tr>\n",
              "      <th>8</th>\n",
              "      <td>200</td>\n",
              "      <td>종로구</td>\n",
              "    </tr>\n",
              "    <tr>\n",
              "      <th>...</th>\n",
              "      <td>...</td>\n",
              "      <td>...</td>\n",
              "    </tr>\n",
              "    <tr>\n",
              "      <th>2153</th>\n",
              "      <td>1085</td>\n",
              "      <td>강동구</td>\n",
              "    </tr>\n",
              "    <tr>\n",
              "      <th>2154</th>\n",
              "      <td>1086</td>\n",
              "      <td>강동구</td>\n",
              "    </tr>\n",
              "    <tr>\n",
              "      <th>2155</th>\n",
              "      <td>1088</td>\n",
              "      <td>강동구</td>\n",
              "    </tr>\n",
              "    <tr>\n",
              "      <th>2156</th>\n",
              "      <td>1089</td>\n",
              "      <td>강동구</td>\n",
              "    </tr>\n",
              "    <tr>\n",
              "      <th>2157</th>\n",
              "      <td>1090</td>\n",
              "      <td>강동구</td>\n",
              "    </tr>\n",
              "  </tbody>\n",
              "</table>\n",
              "<p>2042 rows × 2 columns</p>\n",
              "</div>"
            ],
            "text/plain": [
              "      대여소번호  소재지\n",
              "4       200  종로구\n",
              "5       200  종로구\n",
              "6       200  종로구\n",
              "7       200  종로구\n",
              "8       200  종로구\n",
              "...     ...  ...\n",
              "2153   1085  강동구\n",
              "2154   1086  강동구\n",
              "2155   1088  강동구\n",
              "2156   1089  강동구\n",
              "2157   1090  강동구\n",
              "\n",
              "[2042 rows x 2 columns]"
            ]
          },
          "metadata": {},
          "execution_count": 44
        }
      ]
    },
    {
      "cell_type": "code",
      "metadata": {
        "colab": {
          "base_uri": "https://localhost:8080/",
          "height": 507
        },
        "id": "J2S5qxjgA1pH",
        "outputId": "5c27ee3a-10d9-498e-ef2b-5e68eadd7bf7"
      },
      "source": [
        "result = pd.merge(data,data_new, on=\"대여소번호\")\n",
        "result"
      ],
      "execution_count": 45,
      "outputs": [
        {
          "output_type": "execute_result",
          "data": {
            "text/html": [
              "<div>\n",
              "<style scoped>\n",
              "    .dataframe tbody tr th:only-of-type {\n",
              "        vertical-align: middle;\n",
              "    }\n",
              "\n",
              "    .dataframe tbody tr th {\n",
              "        vertical-align: top;\n",
              "    }\n",
              "\n",
              "    .dataframe thead th {\n",
              "        text-align: right;\n",
              "    }\n",
              "</style>\n",
              "<table border=\"1\" class=\"dataframe\">\n",
              "  <thead>\n",
              "    <tr style=\"text-align: right;\">\n",
              "      <th></th>\n",
              "      <th>대여소번호</th>\n",
              "      <th>보관소</th>\n",
              "      <th>소재지_x</th>\n",
              "      <th>주소</th>\n",
              "      <th>위도</th>\n",
              "      <th>경도</th>\n",
              "      <th>소재지_y</th>\n",
              "    </tr>\n",
              "  </thead>\n",
              "  <tbody>\n",
              "    <tr>\n",
              "      <th>0</th>\n",
              "      <td>308</td>\n",
              "      <td>광화문 S타워 앞</td>\n",
              "      <td>종로구</td>\n",
              "      <td>서울특별시 종로구 새문안로 82</td>\n",
              "      <td>37.569969</td>\n",
              "      <td>126.973938</td>\n",
              "      <td>종로구</td>\n",
              "    </tr>\n",
              "    <tr>\n",
              "      <th>1</th>\n",
              "      <td>309</td>\n",
              "      <td>광화문역 6번출구 옆</td>\n",
              "      <td>종로구</td>\n",
              "      <td>서울특별시 종로구 세종대로 지하172</td>\n",
              "      <td>37.569889</td>\n",
              "      <td>126.976456</td>\n",
              "      <td>종로구</td>\n",
              "    </tr>\n",
              "    <tr>\n",
              "      <th>2</th>\n",
              "      <td>314</td>\n",
              "      <td>국립현대미술관</td>\n",
              "      <td>종로구</td>\n",
              "      <td>서울특별시 종로구 삼청로 30</td>\n",
              "      <td>37.579708</td>\n",
              "      <td>126.980858</td>\n",
              "      <td>종로구</td>\n",
              "    </tr>\n",
              "    <tr>\n",
              "      <th>3</th>\n",
              "      <td>316</td>\n",
              "      <td>종각역 1번출구 앞</td>\n",
              "      <td>종로구</td>\n",
              "      <td>서울특별시 종로구 종로 47</td>\n",
              "      <td>37.570396</td>\n",
              "      <td>126.981789</td>\n",
              "      <td>종로구</td>\n",
              "    </tr>\n",
              "    <tr>\n",
              "      <th>4</th>\n",
              "      <td>326</td>\n",
              "      <td>안국역 5번출구 앞</td>\n",
              "      <td>종로구</td>\n",
              "      <td>서울특별시 종로구 율곡로 지하62</td>\n",
              "      <td>37.576241</td>\n",
              "      <td>126.986160</td>\n",
              "      <td>종로구</td>\n",
              "    </tr>\n",
              "    <tr>\n",
              "      <th>...</th>\n",
              "      <td>...</td>\n",
              "      <td>...</td>\n",
              "      <td>...</td>\n",
              "      <td>...</td>\n",
              "      <td>...</td>\n",
              "      <td>...</td>\n",
              "      <td>...</td>\n",
              "    </tr>\n",
              "    <tr>\n",
              "      <th>2037</th>\n",
              "      <td>1085</td>\n",
              "      <td>래미안 솔베뉴(고덕로)</td>\n",
              "      <td>강동구</td>\n",
              "      <td>양재대로1650</td>\n",
              "      <td>37.554569</td>\n",
              "      <td>127.145874</td>\n",
              "      <td>강동구</td>\n",
              "    </tr>\n",
              "    <tr>\n",
              "      <th>2038</th>\n",
              "      <td>1086</td>\n",
              "      <td>래미안 솔베뉴(구천면로)</td>\n",
              "      <td>강동구</td>\n",
              "      <td>양재대로1650</td>\n",
              "      <td>37.550598</td>\n",
              "      <td>127.145454</td>\n",
              "      <td>강동구</td>\n",
              "    </tr>\n",
              "    <tr>\n",
              "      <th>2039</th>\n",
              "      <td>1088</td>\n",
              "      <td>풍납사거리(강동)</td>\n",
              "      <td>강동구</td>\n",
              "      <td>성내동451-3</td>\n",
              "      <td>37.528122</td>\n",
              "      <td>127.119522</td>\n",
              "      <td>강동구</td>\n",
              "    </tr>\n",
              "    <tr>\n",
              "      <th>2040</th>\n",
              "      <td>1089</td>\n",
              "      <td>고덕 래미안힐스테이트(201동)</td>\n",
              "      <td>강동구</td>\n",
              "      <td>고덕동 675</td>\n",
              "      <td>37.560600</td>\n",
              "      <td>127.146698</td>\n",
              "      <td>강동구</td>\n",
              "    </tr>\n",
              "    <tr>\n",
              "      <th>2041</th>\n",
              "      <td>1090</td>\n",
              "      <td>상일동역 2번출구 앞</td>\n",
              "      <td>강동구</td>\n",
              "      <td>고덕로 333</td>\n",
              "      <td>37.556789</td>\n",
              "      <td>127.166145</td>\n",
              "      <td>강동구</td>\n",
              "    </tr>\n",
              "  </tbody>\n",
              "</table>\n",
              "<p>2042 rows × 7 columns</p>\n",
              "</div>"
            ],
            "text/plain": [
              "      대여소번호                보관소 소재지_x  ...         위도          경도 소재지_y\n",
              "0       308          광화문 S타워 앞   종로구  ...  37.569969  126.973938   종로구\n",
              "1       309        광화문역 6번출구 옆   종로구  ...  37.569889  126.976456   종로구\n",
              "2       314            국립현대미술관   종로구  ...  37.579708  126.980858   종로구\n",
              "3       316         종각역 1번출구 앞   종로구  ...  37.570396  126.981789   종로구\n",
              "4       326         안국역 5번출구 앞   종로구  ...  37.576241  126.986160   종로구\n",
              "...     ...                ...   ...  ...        ...         ...   ...\n",
              "2037   1085       래미안 솔베뉴(고덕로)   강동구  ...  37.554569  127.145874   강동구\n",
              "2038   1086      래미안 솔베뉴(구천면로)   강동구  ...  37.550598  127.145454   강동구\n",
              "2039   1088          풍납사거리(강동)   강동구  ...  37.528122  127.119522   강동구\n",
              "2040   1089  고덕 래미안힐스테이트(201동)   강동구  ...  37.560600  127.146698   강동구\n",
              "2041   1090        상일동역 2번출구 앞   강동구  ...  37.556789  127.166145   강동구\n",
              "\n",
              "[2042 rows x 7 columns]"
            ]
          },
          "metadata": {},
          "execution_count": 45
        }
      ]
    },
    {
      "cell_type": "code",
      "metadata": {
        "colab": {
          "base_uri": "https://localhost:8080/"
        },
        "id": "YGj7smwuWItz",
        "outputId": "436e6ce7-292c-4b90-b5f6-c101ab27687e"
      },
      "source": [
        "data[\"대여소번호\"].value_counts()"
      ],
      "execution_count": 43,
      "outputs": [
        {
          "output_type": "execute_result",
          "data": {
            "text/plain": [
              "2041    1\n",
              "1140    1\n",
              "1108    1\n",
              "1110    1\n",
              "1112    1\n",
              "       ..\n",
              "2530    1\n",
              "483     1\n",
              "2532    1\n",
              "485     1\n",
              "2057    1\n",
              "Name: 대여소번호, Length: 2042, dtype: int64"
            ]
          },
          "metadata": {},
          "execution_count": 43
        }
      ]
    },
    {
      "cell_type": "code",
      "metadata": {
        "colab": {
          "base_uri": "https://localhost:8080/"
        },
        "id": "B5hJukauHEvM",
        "outputId": "d985cac7-81e2-4370-a2a2-42d89d4d8180"
      },
      "source": [
        "result[\"대여소번호\"].value_counts()\n",
        "# 데이터 결합후 '200' 으로 변경한 데이터 값까지 포함된 것을 볼 수 있다. "
      ],
      "execution_count": 46,
      "outputs": [
        {
          "output_type": "execute_result",
          "data": {
            "text/plain": [
              "200     8\n",
              "2041    1\n",
              "1140    1\n",
              "1108    1\n",
              "1110    1\n",
              "       ..\n",
              "485     1\n",
              "2534    1\n",
              "487     1\n",
              "2536    1\n",
              "2057    1\n",
              "Name: 대여소번호, Length: 2035, dtype: int64"
            ]
          },
          "metadata": {},
          "execution_count": 46
        }
      ]
    }
  ]
}