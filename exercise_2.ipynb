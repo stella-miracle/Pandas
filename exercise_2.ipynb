{
  "nbformat": 4,
  "nbformat_minor": 0,
  "metadata": {
    "colab": {
      "name": "exercise_2.ipynb",
      "provenance": [],
      "authorship_tag": "ABX9TyMI37kdl3uqHK5HW62nOcXT"
    },
    "kernelspec": {
      "name": "python3",
      "display_name": "Python 3"
    },
    "language_info": {
      "name": "python"
    }
  },
  "cells": [
    {
      "cell_type": "code",
      "metadata": {
        "id": "OGifJvtdeEil"
      },
      "source": [
        "import pandas as pd\n",
        "import numpy as np\n",
        "import matplotlib.pyplot as plt\n",
        "import seaborn as sns\n"
      ],
      "execution_count": 1,
      "outputs": []
    },
    {
      "cell_type": "code",
      "metadata": {
        "id": "TjcCD-LPb_yN"
      },
      "source": [
        "# 제공 -> codepresso\n",
        "url = 'https://codepresso-online-platform-public.s3.ap-northeast-2.amazonaws.com/learning-resourse/python-data-analysis/bike_2101_utf8_0618.csv'"
      ],
      "execution_count": 2,
      "outputs": []
    },
    {
      "cell_type": "code",
      "metadata": {
        "id": "1FBRKmwQcTUA"
      },
      "source": [
        "bike_data = pd.read_csv(url)"
      ],
      "execution_count": 3,
      "outputs": []
    },
    {
      "cell_type": "code",
      "metadata": {
        "colab": {
          "base_uri": "https://localhost:8080/",
          "height": 212
        },
        "id": "6wU7Alo6d_Y_",
        "outputId": "4178deaf-fd55-4db8-98f6-511da9fe3f49"
      },
      "source": [
        "bike_data.head(3)"
      ],
      "execution_count": 4,
      "outputs": [
        {
          "output_type": "execute_result",
          "data": {
            "text/html": [
              "<div>\n",
              "<style scoped>\n",
              "    .dataframe tbody tr th:only-of-type {\n",
              "        vertical-align: middle;\n",
              "    }\n",
              "\n",
              "    .dataframe tbody tr th {\n",
              "        vertical-align: top;\n",
              "    }\n",
              "\n",
              "    .dataframe thead th {\n",
              "        text-align: right;\n",
              "    }\n",
              "</style>\n",
              "<table border=\"1\" class=\"dataframe\">\n",
              "  <thead>\n",
              "    <tr style=\"text-align: right;\">\n",
              "      <th></th>\n",
              "      <th>대여일자</th>\n",
              "      <th>대여시간</th>\n",
              "      <th>대여소번호</th>\n",
              "      <th>대여소명</th>\n",
              "      <th>대여구분코드</th>\n",
              "      <th>성별</th>\n",
              "      <th>연령대코드</th>\n",
              "      <th>이용건수</th>\n",
              "      <th>운동량</th>\n",
              "      <th>탄소량</th>\n",
              "      <th>이동거리</th>\n",
              "      <th>사용시간</th>\n",
              "    </tr>\n",
              "  </thead>\n",
              "  <tbody>\n",
              "    <tr>\n",
              "      <th>0</th>\n",
              "      <td>2021-01-01</td>\n",
              "      <td>0</td>\n",
              "      <td>1347</td>\n",
              "      <td>1347. 길음래미안아파트817동 상가 앞</td>\n",
              "      <td>정기권</td>\n",
              "      <td>NaN</td>\n",
              "      <td>~10대</td>\n",
              "      <td>2</td>\n",
              "      <td>28.90</td>\n",
              "      <td>0.23</td>\n",
              "      <td>992.78</td>\n",
              "      <td>13</td>\n",
              "    </tr>\n",
              "    <tr>\n",
              "      <th>1</th>\n",
              "      <td>2021-01-01</td>\n",
              "      <td>0</td>\n",
              "      <td>1349</td>\n",
              "      <td>1349. 월계2교 버스정류장 앞</td>\n",
              "      <td>정기권</td>\n",
              "      <td>NaN</td>\n",
              "      <td>~10대</td>\n",
              "      <td>1</td>\n",
              "      <td>34.38</td>\n",
              "      <td>0.26</td>\n",
              "      <td>1127.50</td>\n",
              "      <td>10</td>\n",
              "    </tr>\n",
              "    <tr>\n",
              "      <th>2</th>\n",
              "      <td>2021-01-01</td>\n",
              "      <td>0</td>\n",
              "      <td>1168</td>\n",
              "      <td>1168. 마곡엠밸리10단지 앞</td>\n",
              "      <td>정기권</td>\n",
              "      <td>NaN</td>\n",
              "      <td>~10대</td>\n",
              "      <td>1</td>\n",
              "      <td>0.00</td>\n",
              "      <td>0.00</td>\n",
              "      <td>0.00</td>\n",
              "      <td>7</td>\n",
              "    </tr>\n",
              "  </tbody>\n",
              "</table>\n",
              "</div>"
            ],
            "text/plain": [
              "         대여일자  대여시간  대여소번호                     대여소명  ...    운동량   탄소량     이동거리  사용시간\n",
              "0  2021-01-01     0   1347  1347. 길음래미안아파트817동 상가 앞  ...  28.90  0.23   992.78    13\n",
              "1  2021-01-01     0   1349       1349. 월계2교 버스정류장 앞  ...  34.38  0.26  1127.50    10\n",
              "2  2021-01-01     0   1168        1168. 마곡엠밸리10단지 앞  ...   0.00  0.00     0.00     7\n",
              "\n",
              "[3 rows x 12 columns]"
            ]
          },
          "metadata": {},
          "execution_count": 4
        }
      ]
    },
    {
      "cell_type": "code",
      "metadata": {
        "colab": {
          "base_uri": "https://localhost:8080/",
          "height": 229
        },
        "id": "HNdjOmKneOr6",
        "outputId": "de0a9024-8991-4c27-d85c-a2b8517d559f"
      },
      "source": [
        "bike_data.tail(3)"
      ],
      "execution_count": 5,
      "outputs": [
        {
          "output_type": "execute_result",
          "data": {
            "text/html": [
              "<div>\n",
              "<style scoped>\n",
              "    .dataframe tbody tr th:only-of-type {\n",
              "        vertical-align: middle;\n",
              "    }\n",
              "\n",
              "    .dataframe tbody tr th {\n",
              "        vertical-align: top;\n",
              "    }\n",
              "\n",
              "    .dataframe thead th {\n",
              "        text-align: right;\n",
              "    }\n",
              "</style>\n",
              "<table border=\"1\" class=\"dataframe\">\n",
              "  <thead>\n",
              "    <tr style=\"text-align: right;\">\n",
              "      <th></th>\n",
              "      <th>대여일자</th>\n",
              "      <th>대여시간</th>\n",
              "      <th>대여소번호</th>\n",
              "      <th>대여소명</th>\n",
              "      <th>대여구분코드</th>\n",
              "      <th>성별</th>\n",
              "      <th>연령대코드</th>\n",
              "      <th>이용건수</th>\n",
              "      <th>운동량</th>\n",
              "      <th>탄소량</th>\n",
              "      <th>이동거리</th>\n",
              "      <th>사용시간</th>\n",
              "    </tr>\n",
              "  </thead>\n",
              "  <tbody>\n",
              "    <tr>\n",
              "      <th>718854</th>\n",
              "      <td>2021-01-31</td>\n",
              "      <td>23</td>\n",
              "      <td>248</td>\n",
              "      <td>248. 초원아파트 앞</td>\n",
              "      <td>단체권</td>\n",
              "      <td>NaN</td>\n",
              "      <td>20대</td>\n",
              "      <td>2</td>\n",
              "      <td>348.43</td>\n",
              "      <td>2.91</td>\n",
              "      <td>12569.64</td>\n",
              "      <td>90</td>\n",
              "    </tr>\n",
              "    <tr>\n",
              "      <th>718855</th>\n",
              "      <td>2021-01-31</td>\n",
              "      <td>23</td>\n",
              "      <td>131</td>\n",
              "      <td>131. 증산2교</td>\n",
              "      <td>단체권</td>\n",
              "      <td>NaN</td>\n",
              "      <td>20대</td>\n",
              "      <td>2</td>\n",
              "      <td>98.10</td>\n",
              "      <td>0.77</td>\n",
              "      <td>3302.87</td>\n",
              "      <td>20</td>\n",
              "    </tr>\n",
              "    <tr>\n",
              "      <th>718856</th>\n",
              "      <td>2021-01-31</td>\n",
              "      <td>23</td>\n",
              "      <td>247</td>\n",
              "      <td>247. 당산역 10번출구 앞</td>\n",
              "      <td>단체권</td>\n",
              "      <td>M</td>\n",
              "      <td>40대</td>\n",
              "      <td>1</td>\n",
              "      <td>223.71</td>\n",
              "      <td>2.02</td>\n",
              "      <td>8691.10</td>\n",
              "      <td>52</td>\n",
              "    </tr>\n",
              "  </tbody>\n",
              "</table>\n",
              "</div>"
            ],
            "text/plain": [
              "              대여일자  대여시간  대여소번호              대여소명  ...     운동량   탄소량      이동거리  사용시간\n",
              "718854  2021-01-31    23    248      248. 초원아파트 앞  ...  348.43  2.91  12569.64    90\n",
              "718855  2021-01-31    23    131         131. 증산2교  ...   98.10  0.77   3302.87    20\n",
              "718856  2021-01-31    23    247  247. 당산역 10번출구 앞  ...  223.71  2.02   8691.10    52\n",
              "\n",
              "[3 rows x 12 columns]"
            ]
          },
          "metadata": {},
          "execution_count": 5
        }
      ]
    },
    {
      "cell_type": "code",
      "metadata": {
        "colab": {
          "base_uri": "https://localhost:8080/"
        },
        "id": "JK-3s-dveQ9S",
        "outputId": "8967b739-03f8-4ea8-db1a-b6360e962559"
      },
      "source": [
        "bike_data.info()"
      ],
      "execution_count": 6,
      "outputs": [
        {
          "output_type": "stream",
          "name": "stdout",
          "text": [
            "<class 'pandas.core.frame.DataFrame'>\n",
            "RangeIndex: 718857 entries, 0 to 718856\n",
            "Data columns (total 12 columns):\n",
            " #   Column  Non-Null Count   Dtype  \n",
            "---  ------  --------------   -----  \n",
            " 0   대여일자    718857 non-null  object \n",
            " 1   대여시간    718857 non-null  int64  \n",
            " 2   대여소번호   718857 non-null  int64  \n",
            " 3   대여소명    718857 non-null  object \n",
            " 4   대여구분코드  718857 non-null  object \n",
            " 5   성별      401235 non-null  object \n",
            " 6   연령대코드   718857 non-null  object \n",
            " 7   이용건수    718857 non-null  int64  \n",
            " 8   운동량     718857 non-null  object \n",
            " 9   탄소량     718857 non-null  object \n",
            " 10  이동거리    718857 non-null  float64\n",
            " 11  사용시간    718857 non-null  int64  \n",
            "dtypes: float64(1), int64(4), object(7)\n",
            "memory usage: 65.8+ MB\n"
          ]
        }
      ]
    },
    {
      "cell_type": "code",
      "metadata": {
        "colab": {
          "base_uri": "https://localhost:8080/"
        },
        "id": "Tck79ft3eZpa",
        "outputId": "98d7df97-d113-4fdb-a1be-d1ab4bcf2959"
      },
      "source": [
        "# columns data 확인 \n",
        "bike_data.columns"
      ],
      "execution_count": 7,
      "outputs": [
        {
          "output_type": "execute_result",
          "data": {
            "text/plain": [
              "Index(['대여일자', '대여시간', '대여소번호', '대여소명', '대여구분코드', '성별', '연령대코드', '이용건수', '운동량',\n",
              "       '탄소량', '이동거리', '사용시간'],\n",
              "      dtype='object')"
            ]
          },
          "metadata": {},
          "execution_count": 7
        }
      ]
    },
    {
      "cell_type": "markdown",
      "metadata": {
        "id": "VIp6abzwe9mU"
      },
      "source": [
        "#1. 데이터 전처리\n",
        "     1. 범주형 데이터가 수치형 데이터로 \n",
        "        저장되어 있을 경우 수정하기"
      ]
    },
    {
      "cell_type": "code",
      "metadata": {
        "colab": {
          "base_uri": "https://localhost:8080/"
        },
        "id": "QQywYAf9fCiy",
        "outputId": "c412160d-3ec6-43ac-ec6e-761f33f25003"
      },
      "source": [
        "bike_data['대여시간'].unique()\n",
        "# 수치형 데이터의 예시"
      ],
      "execution_count": 8,
      "outputs": [
        {
          "output_type": "execute_result",
          "data": {
            "text/plain": [
              "array([ 0,  1,  2,  3,  4,  5,  6,  7,  8,  9, 10, 11, 12, 13, 14, 15, 16,\n",
              "       17, 18, 19, 20, 21, 22, 23])"
            ]
          },
          "metadata": {},
          "execution_count": 8
        }
      ]
    },
    {
      "cell_type": "code",
      "metadata": {
        "colab": {
          "base_uri": "https://localhost:8080/"
        },
        "id": "jqBQNwj3fh7T",
        "outputId": "a561bb4f-9737-4130-da23-16dc6d14d5d6"
      },
      "source": [
        "bike_data['운동량'].unique()\n",
        "# 원래는 수치형 데이터 여야 하지만 현재 범주형 데이터로 판단.\n"
      ],
      "execution_count": 9,
      "outputs": [
        {
          "output_type": "execute_result",
          "data": {
            "text/plain": [
              "array(['28.90', '34.38', '0.00', ..., '509.20', '916.66', '492.87'],\n",
              "      dtype=object)"
            ]
          },
          "metadata": {},
          "execution_count": 9
        }
      ]
    },
    {
      "cell_type": "code",
      "metadata": {
        "colab": {
          "base_uri": "https://localhost:8080/"
        },
        "id": "npQrgMLJfR8z",
        "outputId": "a1cfb7a0-4ba4-4f81-90fb-55b2cc225506"
      },
      "source": [
        "bike_data['운동량'].describe()"
      ],
      "execution_count": 10,
      "outputs": [
        {
          "output_type": "execute_result",
          "data": {
            "text/plain": [
              "count     718857\n",
              "unique     51422\n",
              "top         0.00\n",
              "freq       73806\n",
              "Name: 운동량, dtype: object"
            ]
          },
          "metadata": {},
          "execution_count": 10
        }
      ]
    },
    {
      "cell_type": "markdown",
      "metadata": {
        "id": "OpNSZg5Ygyu-"
      },
      "source": [
        "describe() 를 이용한 원래 수치형인 이유\n",
        "\n",
        " -> 범주형 데이터는 적어도 10개 이하의 수\n",
        "\n",
        " -> 수가 이렇게 많다는 것은 원래 수치형 데이터라는 것   \n",
        " \n",
        " -> 대부분, 문자 하나때문에 범주형 데이터가 되는 경우 대다수"
      ]
    },
    {
      "cell_type": "markdown",
      "metadata": {
        "id": "QF6vPqvJhIzc"
      },
      "source": [
        "수치형 데이터로 전처리 과정 \n",
        "\n",
        "-> 결측값 살펴보기\n",
        "\n",
        "-> 패턴매치로 이상값 찾기 즉, 특수문자 찾기\n",
        "\n",
        "-> 특수문자가 들어간 데이터 위치 조회\n",
        "\n",
        "-> 모두 결측치로 바꾸기 \n",
        "\n",
        "이유: 결측치로 처리하게 되면 일일히 한번에 수정하지 않고\n",
        "      한번에 처리하기 쉬워지기 때문에!\n",
        "\n",
        "-> 데이터 타입 변경"
      ]
    },
    {
      "cell_type": "code",
      "metadata": {
        "colab": {
          "base_uri": "https://localhost:8080/"
        },
        "id": "ERleXIACgoVr",
        "outputId": "969a8811-1fd1-4224-ca97-28c9a207d5de"
      },
      "source": [
        "#1. 결측치 값 찾아보기 \n",
        "bike_data[\"운동량\"].isnull().sum()"
      ],
      "execution_count": 11,
      "outputs": [
        {
          "output_type": "execute_result",
          "data": {
            "text/plain": [
              "0"
            ]
          },
          "metadata": {},
          "execution_count": 11
        }
      ]
    },
    {
      "cell_type": "code",
      "metadata": {
        "colab": {
          "base_uri": "https://localhost:8080/",
          "height": 342
        },
        "id": "Q6C0e5qyfx-L",
        "outputId": "f24e458b-4ec9-46f6-e402-c707221f3c30"
      },
      "source": [
        "#2. 특수문자 찾기\n",
        "pattern ='([0-9])' \n",
        "bike_data['temp'] = bike_data['운동량'].str.match(pattern)\n",
        "bike_data.head()         "
      ],
      "execution_count": 12,
      "outputs": [
        {
          "output_type": "execute_result",
          "data": {
            "text/html": [
              "<div>\n",
              "<style scoped>\n",
              "    .dataframe tbody tr th:only-of-type {\n",
              "        vertical-align: middle;\n",
              "    }\n",
              "\n",
              "    .dataframe tbody tr th {\n",
              "        vertical-align: top;\n",
              "    }\n",
              "\n",
              "    .dataframe thead th {\n",
              "        text-align: right;\n",
              "    }\n",
              "</style>\n",
              "<table border=\"1\" class=\"dataframe\">\n",
              "  <thead>\n",
              "    <tr style=\"text-align: right;\">\n",
              "      <th></th>\n",
              "      <th>대여일자</th>\n",
              "      <th>대여시간</th>\n",
              "      <th>대여소번호</th>\n",
              "      <th>대여소명</th>\n",
              "      <th>대여구분코드</th>\n",
              "      <th>성별</th>\n",
              "      <th>연령대코드</th>\n",
              "      <th>이용건수</th>\n",
              "      <th>운동량</th>\n",
              "      <th>탄소량</th>\n",
              "      <th>이동거리</th>\n",
              "      <th>사용시간</th>\n",
              "      <th>temp</th>\n",
              "    </tr>\n",
              "  </thead>\n",
              "  <tbody>\n",
              "    <tr>\n",
              "      <th>0</th>\n",
              "      <td>2021-01-01</td>\n",
              "      <td>0</td>\n",
              "      <td>1347</td>\n",
              "      <td>1347. 길음래미안아파트817동 상가 앞</td>\n",
              "      <td>정기권</td>\n",
              "      <td>NaN</td>\n",
              "      <td>~10대</td>\n",
              "      <td>2</td>\n",
              "      <td>28.90</td>\n",
              "      <td>0.23</td>\n",
              "      <td>992.78</td>\n",
              "      <td>13</td>\n",
              "      <td>True</td>\n",
              "    </tr>\n",
              "    <tr>\n",
              "      <th>1</th>\n",
              "      <td>2021-01-01</td>\n",
              "      <td>0</td>\n",
              "      <td>1349</td>\n",
              "      <td>1349. 월계2교 버스정류장 앞</td>\n",
              "      <td>정기권</td>\n",
              "      <td>NaN</td>\n",
              "      <td>~10대</td>\n",
              "      <td>1</td>\n",
              "      <td>34.38</td>\n",
              "      <td>0.26</td>\n",
              "      <td>1127.50</td>\n",
              "      <td>10</td>\n",
              "      <td>True</td>\n",
              "    </tr>\n",
              "    <tr>\n",
              "      <th>2</th>\n",
              "      <td>2021-01-01</td>\n",
              "      <td>0</td>\n",
              "      <td>1168</td>\n",
              "      <td>1168. 마곡엠밸리10단지 앞</td>\n",
              "      <td>정기권</td>\n",
              "      <td>NaN</td>\n",
              "      <td>~10대</td>\n",
              "      <td>1</td>\n",
              "      <td>0.00</td>\n",
              "      <td>0.00</td>\n",
              "      <td>0.00</td>\n",
              "      <td>7</td>\n",
              "      <td>True</td>\n",
              "    </tr>\n",
              "    <tr>\n",
              "      <th>3</th>\n",
              "      <td>2021-01-01</td>\n",
              "      <td>0</td>\n",
              "      <td>2619</td>\n",
              "      <td>2619. 석촌고분역 4번출구</td>\n",
              "      <td>정기권</td>\n",
              "      <td>NaN</td>\n",
              "      <td>~10대</td>\n",
              "      <td>1</td>\n",
              "      <td>38.75</td>\n",
              "      <td>0.38</td>\n",
              "      <td>1658.34</td>\n",
              "      <td>14</td>\n",
              "      <td>True</td>\n",
              "    </tr>\n",
              "    <tr>\n",
              "      <th>4</th>\n",
              "      <td>2021-01-01</td>\n",
              "      <td>0</td>\n",
              "      <td>536</td>\n",
              "      <td>536. 행당역 2번출구 앞</td>\n",
              "      <td>정기권</td>\n",
              "      <td>NaN</td>\n",
              "      <td>~10대</td>\n",
              "      <td>1</td>\n",
              "      <td>12.96</td>\n",
              "      <td>0.17</td>\n",
              "      <td>743.88</td>\n",
              "      <td>5</td>\n",
              "      <td>True</td>\n",
              "    </tr>\n",
              "  </tbody>\n",
              "</table>\n",
              "</div>"
            ],
            "text/plain": [
              "         대여일자  대여시간  대여소번호                     대여소명  ...   탄소량     이동거리 사용시간  temp\n",
              "0  2021-01-01     0   1347  1347. 길음래미안아파트817동 상가 앞  ...  0.23   992.78   13  True\n",
              "1  2021-01-01     0   1349       1349. 월계2교 버스정류장 앞  ...  0.26  1127.50   10  True\n",
              "2  2021-01-01     0   1168        1168. 마곡엠밸리10단지 앞  ...  0.00     0.00    7  True\n",
              "3  2021-01-01     0   2619         2619. 석촌고분역 4번출구  ...  0.38  1658.34   14  True\n",
              "4  2021-01-01     0    536          536. 행당역 2번출구 앞  ...  0.17   743.88    5  True\n",
              "\n",
              "[5 rows x 13 columns]"
            ]
          },
          "metadata": {},
          "execution_count": 12
        }
      ]
    },
    {
      "cell_type": "code",
      "metadata": {
        "colab": {
          "base_uri": "https://localhost:8080/"
        },
        "id": "HuccC0eAjQ8o",
        "outputId": "b9208b84-0cc0-401d-e99c-4d01d6e92846"
      },
      "source": [
        "bike_data.loc[bike_data[\"운동량\"]=='\\\\N',\"운동량\"]"
      ],
      "execution_count": 13,
      "outputs": [
        {
          "output_type": "execute_result",
          "data": {
            "text/plain": [
              "57        \\N\n",
              "78        \\N\n",
              "240       \\N\n",
              "311       \\N\n",
              "397       \\N\n",
              "          ..\n",
              "717806    \\N\n",
              "718106    \\N\n",
              "718242    \\N\n",
              "718591    \\N\n",
              "718619    \\N\n",
              "Name: 운동량, Length: 4569, dtype: object"
            ]
          },
          "metadata": {},
          "execution_count": 13
        }
      ]
    },
    {
      "cell_type": "code",
      "metadata": {
        "id": "FI09ZkFomkrl"
      },
      "source": [
        "# 특수문자 값 -> 결측치 값 변경\n",
        "bike_data.loc[bike_data[\"운동량\"]==\"\\\\N\",\"운동량\"] = np.nan"
      ],
      "execution_count": 14,
      "outputs": []
    },
    {
      "cell_type": "code",
      "metadata": {
        "colab": {
          "base_uri": "https://localhost:8080/"
        },
        "id": "PjrNjm_LqKwD",
        "outputId": "7b9dba98-b034-42fd-d51d-5a7b83802f65"
      },
      "source": [
        "bike_data.isnull().sum()\n",
        "# 처음 결측치 값 조회때랑은 다르게 운동량에 결측치 값이 생긴 것을 알 수있다. "
      ],
      "execution_count": 15,
      "outputs": [
        {
          "output_type": "execute_result",
          "data": {
            "text/plain": [
              "대여일자           0\n",
              "대여시간           0\n",
              "대여소번호          0\n",
              "대여소명           0\n",
              "대여구분코드         0\n",
              "성별        317622\n",
              "연령대코드          0\n",
              "이용건수           0\n",
              "운동량         4569\n",
              "탄소량            0\n",
              "이동거리           0\n",
              "사용시간           0\n",
              "temp           0\n",
              "dtype: int64"
            ]
          },
          "metadata": {},
          "execution_count": 15
        }
      ]
    },
    {
      "cell_type": "code",
      "metadata": {
        "id": "-HIPvy_lqUrM"
      },
      "source": [
        "# 임시 파일 temp 삭제하기 \n",
        "bike_data.drop(columns='temp', inplace=True)"
      ],
      "execution_count": 16,
      "outputs": []
    },
    {
      "cell_type": "code",
      "metadata": {
        "id": "eVflQvYNqPV-"
      },
      "source": [
        "# 데이터 타입 변경 \n",
        "bike_data['운동량']= bike_data['운동량'].astype(float)"
      ],
      "execution_count": 17,
      "outputs": []
    },
    {
      "cell_type": "code",
      "metadata": {
        "colab": {
          "base_uri": "https://localhost:8080/"
        },
        "id": "Lp42z302ql5J",
        "outputId": "52c149db-4b23-46fe-8cbc-bac073ef02a6"
      },
      "source": [
        "bike_data.info()\n",
        "# 운동량 dtype 이 object 에서 flaot 로 바뀐것을 볼 수 있음! "
      ],
      "execution_count": 18,
      "outputs": [
        {
          "output_type": "stream",
          "name": "stdout",
          "text": [
            "<class 'pandas.core.frame.DataFrame'>\n",
            "RangeIndex: 718857 entries, 0 to 718856\n",
            "Data columns (total 12 columns):\n",
            " #   Column  Non-Null Count   Dtype  \n",
            "---  ------  --------------   -----  \n",
            " 0   대여일자    718857 non-null  object \n",
            " 1   대여시간    718857 non-null  int64  \n",
            " 2   대여소번호   718857 non-null  int64  \n",
            " 3   대여소명    718857 non-null  object \n",
            " 4   대여구분코드  718857 non-null  object \n",
            " 5   성별      401235 non-null  object \n",
            " 6   연령대코드   718857 non-null  object \n",
            " 7   이용건수    718857 non-null  int64  \n",
            " 8   운동량     714288 non-null  float64\n",
            " 9   탄소량     718857 non-null  object \n",
            " 10  이동거리    718857 non-null  float64\n",
            " 11  사용시간    718857 non-null  int64  \n",
            "dtypes: float64(2), int64(4), object(6)\n",
            "memory usage: 65.8+ MB\n"
          ]
        }
      ]
    },
    {
      "cell_type": "code",
      "metadata": {
        "colab": {
          "base_uri": "https://localhost:8080/"
        },
        "id": "WY0Rt6Toqw6G",
        "outputId": "733a87d6-3ab7-4b62-a196-3bc5252c96a2"
      },
      "source": [
        "bike_data[\"탄소량\"].unique() \n",
        "# 마찬가지로 범주형으로 설정되어있음 -> 수치형으로 변형시켜야함"
      ],
      "execution_count": 19,
      "outputs": [
        {
          "output_type": "execute_result",
          "data": {
            "text/plain": [
              "array(['0.23', '0.26', '0.00', ..., '9.13', '46.93', '14.15'],\n",
              "      dtype=object)"
            ]
          },
          "metadata": {},
          "execution_count": 19
        }
      ]
    },
    {
      "cell_type": "code",
      "metadata": {
        "colab": {
          "base_uri": "https://localhost:8080/"
        },
        "id": "vnxJ4WjPsqqH",
        "outputId": "b2083f77-8933-4cc7-c067-a19cd0f448df"
      },
      "source": [
        "bike_data[\"탄소량\"].isnull().sum()"
      ],
      "execution_count": 20,
      "outputs": [
        {
          "output_type": "execute_result",
          "data": {
            "text/plain": [
              "0"
            ]
          },
          "metadata": {},
          "execution_count": 20
        }
      ]
    },
    {
      "cell_type": "code",
      "metadata": {
        "colab": {
          "base_uri": "https://localhost:8080/",
          "height": 342
        },
        "id": "GSaBMkwdr5-X",
        "outputId": "e2098420-259a-4c28-fd89-da778b4cc10f"
      },
      "source": [
        "pattern='([0-9])'\n",
        "bike_data['temp'] = bike_data[\"탄소량\"].str.match(pattern)\n",
        "bike_data.head()"
      ],
      "execution_count": 21,
      "outputs": [
        {
          "output_type": "execute_result",
          "data": {
            "text/html": [
              "<div>\n",
              "<style scoped>\n",
              "    .dataframe tbody tr th:only-of-type {\n",
              "        vertical-align: middle;\n",
              "    }\n",
              "\n",
              "    .dataframe tbody tr th {\n",
              "        vertical-align: top;\n",
              "    }\n",
              "\n",
              "    .dataframe thead th {\n",
              "        text-align: right;\n",
              "    }\n",
              "</style>\n",
              "<table border=\"1\" class=\"dataframe\">\n",
              "  <thead>\n",
              "    <tr style=\"text-align: right;\">\n",
              "      <th></th>\n",
              "      <th>대여일자</th>\n",
              "      <th>대여시간</th>\n",
              "      <th>대여소번호</th>\n",
              "      <th>대여소명</th>\n",
              "      <th>대여구분코드</th>\n",
              "      <th>성별</th>\n",
              "      <th>연령대코드</th>\n",
              "      <th>이용건수</th>\n",
              "      <th>운동량</th>\n",
              "      <th>탄소량</th>\n",
              "      <th>이동거리</th>\n",
              "      <th>사용시간</th>\n",
              "      <th>temp</th>\n",
              "    </tr>\n",
              "  </thead>\n",
              "  <tbody>\n",
              "    <tr>\n",
              "      <th>0</th>\n",
              "      <td>2021-01-01</td>\n",
              "      <td>0</td>\n",
              "      <td>1347</td>\n",
              "      <td>1347. 길음래미안아파트817동 상가 앞</td>\n",
              "      <td>정기권</td>\n",
              "      <td>NaN</td>\n",
              "      <td>~10대</td>\n",
              "      <td>2</td>\n",
              "      <td>28.90</td>\n",
              "      <td>0.23</td>\n",
              "      <td>992.78</td>\n",
              "      <td>13</td>\n",
              "      <td>True</td>\n",
              "    </tr>\n",
              "    <tr>\n",
              "      <th>1</th>\n",
              "      <td>2021-01-01</td>\n",
              "      <td>0</td>\n",
              "      <td>1349</td>\n",
              "      <td>1349. 월계2교 버스정류장 앞</td>\n",
              "      <td>정기권</td>\n",
              "      <td>NaN</td>\n",
              "      <td>~10대</td>\n",
              "      <td>1</td>\n",
              "      <td>34.38</td>\n",
              "      <td>0.26</td>\n",
              "      <td>1127.50</td>\n",
              "      <td>10</td>\n",
              "      <td>True</td>\n",
              "    </tr>\n",
              "    <tr>\n",
              "      <th>2</th>\n",
              "      <td>2021-01-01</td>\n",
              "      <td>0</td>\n",
              "      <td>1168</td>\n",
              "      <td>1168. 마곡엠밸리10단지 앞</td>\n",
              "      <td>정기권</td>\n",
              "      <td>NaN</td>\n",
              "      <td>~10대</td>\n",
              "      <td>1</td>\n",
              "      <td>0.00</td>\n",
              "      <td>0.00</td>\n",
              "      <td>0.00</td>\n",
              "      <td>7</td>\n",
              "      <td>True</td>\n",
              "    </tr>\n",
              "    <tr>\n",
              "      <th>3</th>\n",
              "      <td>2021-01-01</td>\n",
              "      <td>0</td>\n",
              "      <td>2619</td>\n",
              "      <td>2619. 석촌고분역 4번출구</td>\n",
              "      <td>정기권</td>\n",
              "      <td>NaN</td>\n",
              "      <td>~10대</td>\n",
              "      <td>1</td>\n",
              "      <td>38.75</td>\n",
              "      <td>0.38</td>\n",
              "      <td>1658.34</td>\n",
              "      <td>14</td>\n",
              "      <td>True</td>\n",
              "    </tr>\n",
              "    <tr>\n",
              "      <th>4</th>\n",
              "      <td>2021-01-01</td>\n",
              "      <td>0</td>\n",
              "      <td>536</td>\n",
              "      <td>536. 행당역 2번출구 앞</td>\n",
              "      <td>정기권</td>\n",
              "      <td>NaN</td>\n",
              "      <td>~10대</td>\n",
              "      <td>1</td>\n",
              "      <td>12.96</td>\n",
              "      <td>0.17</td>\n",
              "      <td>743.88</td>\n",
              "      <td>5</td>\n",
              "      <td>True</td>\n",
              "    </tr>\n",
              "  </tbody>\n",
              "</table>\n",
              "</div>"
            ],
            "text/plain": [
              "         대여일자  대여시간  대여소번호                     대여소명  ...   탄소량     이동거리 사용시간  temp\n",
              "0  2021-01-01     0   1347  1347. 길음래미안아파트817동 상가 앞  ...  0.23   992.78   13  True\n",
              "1  2021-01-01     0   1349       1349. 월계2교 버스정류장 앞  ...  0.26  1127.50   10  True\n",
              "2  2021-01-01     0   1168        1168. 마곡엠밸리10단지 앞  ...  0.00     0.00    7  True\n",
              "3  2021-01-01     0   2619         2619. 석촌고분역 4번출구  ...  0.38  1658.34   14  True\n",
              "4  2021-01-01     0    536          536. 행당역 2번출구 앞  ...  0.17   743.88    5  True\n",
              "\n",
              "[5 rows x 13 columns]"
            ]
          },
          "metadata": {},
          "execution_count": 21
        }
      ]
    },
    {
      "cell_type": "code",
      "metadata": {
        "colab": {
          "base_uri": "https://localhost:8080/"
        },
        "id": "4X_lbMwCskax",
        "outputId": "c9e50491-d938-46e3-c640-c7c370a6f06e"
      },
      "source": [
        "bike_data.loc[bike_data[\"탄소량\"]==\"\\\\N\",'탄소량']"
      ],
      "execution_count": 22,
      "outputs": [
        {
          "output_type": "execute_result",
          "data": {
            "text/plain": [
              "57        \\N\n",
              "78        \\N\n",
              "240       \\N\n",
              "311       \\N\n",
              "397       \\N\n",
              "          ..\n",
              "717806    \\N\n",
              "718106    \\N\n",
              "718242    \\N\n",
              "718591    \\N\n",
              "718619    \\N\n",
              "Name: 탄소량, Length: 4569, dtype: object"
            ]
          },
          "metadata": {},
          "execution_count": 22
        }
      ]
    },
    {
      "cell_type": "code",
      "metadata": {
        "id": "eFKhs2QUs_Yu"
      },
      "source": [
        "bike_data.loc[bike_data[\"탄소량\"]==\"\\\\N\",\"탄소량\"] = np.nan"
      ],
      "execution_count": 23,
      "outputs": []
    },
    {
      "cell_type": "code",
      "metadata": {
        "id": "qe2G-bgytRzO"
      },
      "source": [
        "bike_data[\"탄소량\"] = bike_data[\"탄소량\"].astype(float)"
      ],
      "execution_count": 24,
      "outputs": []
    },
    {
      "cell_type": "code",
      "metadata": {
        "id": "TT6H2yBxtgtA"
      },
      "source": [
        "bike_data.drop(columns=\"temp\", inplace=True)"
      ],
      "execution_count": 25,
      "outputs": []
    },
    {
      "cell_type": "code",
      "metadata": {
        "colab": {
          "base_uri": "https://localhost:8080/"
        },
        "id": "v6TrkEMStaOs",
        "outputId": "d6ee3d08-db19-4f2b-b5c8-a5cebdf0fefd"
      },
      "source": [
        "bike_data.info()"
      ],
      "execution_count": 26,
      "outputs": [
        {
          "output_type": "stream",
          "name": "stdout",
          "text": [
            "<class 'pandas.core.frame.DataFrame'>\n",
            "RangeIndex: 718857 entries, 0 to 718856\n",
            "Data columns (total 12 columns):\n",
            " #   Column  Non-Null Count   Dtype  \n",
            "---  ------  --------------   -----  \n",
            " 0   대여일자    718857 non-null  object \n",
            " 1   대여시간    718857 non-null  int64  \n",
            " 2   대여소번호   718857 non-null  int64  \n",
            " 3   대여소명    718857 non-null  object \n",
            " 4   대여구분코드  718857 non-null  object \n",
            " 5   성별      401235 non-null  object \n",
            " 6   연령대코드   718857 non-null  object \n",
            " 7   이용건수    718857 non-null  int64  \n",
            " 8   운동량     714288 non-null  float64\n",
            " 9   탄소량     714288 non-null  float64\n",
            " 10  이동거리    718857 non-null  float64\n",
            " 11  사용시간    718857 non-null  int64  \n",
            "dtypes: float64(3), int64(4), object(5)\n",
            "memory usage: 65.8+ MB\n"
          ]
        }
      ]
    },
    {
      "cell_type": "markdown",
      "metadata": {
        "id": "_WN9QUpAuAYa"
      },
      "source": [
        "#2. 결측치 처리\n",
        "\n",
        "1. 성별의 결측치 값이 매우 많음."
      ]
    },
    {
      "cell_type": "code",
      "metadata": {
        "colab": {
          "base_uri": "https://localhost:8080/"
        },
        "id": "sTlB9n6jtbnh",
        "outputId": "991e9958-5a57-4818-c725-eb360d2beaca"
      },
      "source": [
        "bike_data[\"성별\"].unique()"
      ],
      "execution_count": 27,
      "outputs": [
        {
          "output_type": "execute_result",
          "data": {
            "text/plain": [
              "array([nan, 'F', 'M', 'f', 'm'], dtype=object)"
            ]
          },
          "metadata": {},
          "execution_count": 27
        }
      ]
    },
    {
      "cell_type": "code",
      "metadata": {
        "colab": {
          "base_uri": "https://localhost:8080/"
        },
        "id": "TeQYv_veuvsQ",
        "outputId": "7d189e91-691f-4632-85e5-923adc56a126"
      },
      "source": [
        "bike_data[\"성별\"].value_counts()\n",
        "# 소문자와 대문자가 모두 분리되어있는 것을 확인 "
      ],
      "execution_count": 28,
      "outputs": [
        {
          "output_type": "execute_result",
          "data": {
            "text/plain": [
              "M    262477\n",
              "F    138500\n",
              "m       212\n",
              "f        46\n",
              "Name: 성별, dtype: int64"
            ]
          },
          "metadata": {},
          "execution_count": 28
        }
      ]
    },
    {
      "cell_type": "markdown",
      "metadata": {
        "id": "KcHNNRvju92t"
      },
      "source": [
        "동일 카테고리 값 F,M,f,m 값의 혼용\n",
        "\n",
        "-> 대문자, 소문자 일괄 통일 \n",
        "\n",
        "-> 기본 전처리의 역할 수행하는 것!\n",
        "\n",
        "-> 결측치의 값을 다른 설정값으로 변경\n",
        "\n",
        "-> pie 차트로 시각화 즉, 한눈에 파악하기 쉽도록 전처리"
      ]
    },
    {
      "cell_type": "code",
      "metadata": {
        "id": "oOkuM5IjvLWp"
      },
      "source": [
        "bike_data[\"성별\"] = bike_data[\"성별\"].str.upper()"
      ],
      "execution_count": 29,
      "outputs": []
    },
    {
      "cell_type": "code",
      "metadata": {
        "colab": {
          "base_uri": "https://localhost:8080/"
        },
        "id": "6CUdthotu1L7",
        "outputId": "272368db-a472-4f3a-8f56-1ed9a06d12e6"
      },
      "source": [
        "# 대문자 일괄 통일 \n",
        "bike_data[\"성별\"].value_counts()"
      ],
      "execution_count": 30,
      "outputs": [
        {
          "output_type": "execute_result",
          "data": {
            "text/plain": [
              "M    262689\n",
              "F    138546\n",
              "Name: 성별, dtype: int64"
            ]
          },
          "metadata": {},
          "execution_count": 30
        }
      ]
    },
    {
      "cell_type": "code",
      "metadata": {
        "colab": {
          "base_uri": "https://localhost:8080/"
        },
        "id": "SiN_PlN4vZsG",
        "outputId": "1217f2a0-34d8-4116-9200-d5afae3a094c"
      },
      "source": [
        "bike_data['성별'].isnull().sum()\n",
        "# f.m 을 제외한 결측치 값의 수 "
      ],
      "execution_count": 31,
      "outputs": [
        {
          "output_type": "execute_result",
          "data": {
            "text/plain": [
              "317622"
            ]
          },
          "metadata": {},
          "execution_count": 31
        }
      ]
    },
    {
      "cell_type": "code",
      "metadata": {
        "id": "jNAnJK45vhcy"
      },
      "source": [
        "# 다른 설정값으로 대체\n",
        "bike_data.fillna({\"성별\":\"U\"},inplace=True)"
      ],
      "execution_count": 32,
      "outputs": []
    },
    {
      "cell_type": "code",
      "metadata": {
        "colab": {
          "base_uri": "https://localhost:8080/"
        },
        "id": "T74rmnjawUdL",
        "outputId": "6b3efa9f-fef9-4a16-9058-7c93980f1691"
      },
      "source": [
        "# 결측치 값 없어진것 확인 \n",
        "bike_data[\"성별\"].isnull().sum()"
      ],
      "execution_count": 33,
      "outputs": [
        {
          "output_type": "execute_result",
          "data": {
            "text/plain": [
              "0"
            ]
          },
          "metadata": {},
          "execution_count": 33
        }
      ]
    },
    {
      "cell_type": "code",
      "metadata": {
        "colab": {
          "base_uri": "https://localhost:8080/",
          "height": 413
        },
        "id": "g2Ba2HF6wZ71",
        "outputId": "7d56fef5-e8d4-45f5-aabe-a2a218a3997a"
      },
      "source": [
        "# Pie 차트로 시각화\n",
        "result = bike_data[\"성별\"].value_counts()\n",
        "result.plot.pie(autopct = '%1.1f%%')"
      ],
      "execution_count": 34,
      "outputs": [
        {
          "output_type": "execute_result",
          "data": {
            "text/plain": [
              "<matplotlib.axes._subplots.AxesSubplot at 0x7f8d84ece710>"
            ]
          },
          "metadata": {},
          "execution_count": 34
        },
        {
          "output_type": "stream",
          "name": "stderr",
          "text": [
            "/usr/local/lib/python3.7/dist-packages/matplotlib/backends/backend_agg.py:214: RuntimeWarning: Glyph 49457 missing from current font.\n",
            "  font.set_text(s, 0.0, flags=flags)\n",
            "/usr/local/lib/python3.7/dist-packages/matplotlib/backends/backend_agg.py:214: RuntimeWarning: Glyph 48324 missing from current font.\n",
            "  font.set_text(s, 0.0, flags=flags)\n",
            "/usr/local/lib/python3.7/dist-packages/matplotlib/backends/backend_agg.py:183: RuntimeWarning: Glyph 49457 missing from current font.\n",
            "  font.set_text(s, 0, flags=flags)\n",
            "/usr/local/lib/python3.7/dist-packages/matplotlib/backends/backend_agg.py:183: RuntimeWarning: Glyph 48324 missing from current font.\n",
            "  font.set_text(s, 0, flags=flags)\n"
          ]
        },
        {
          "output_type": "display_data",
          "data": {
            "image/png": "[encoded data removed]",
            "text/plain": [
              "<Figure size 432x288 with 1 Axes>"
            ]
          },
          "metadata": {}
        }
      ]
    },
    {
      "cell_type": "markdown",
      "metadata": {
        "id": "nZSWmzDZxH9i"
      },
      "source": [
        "2. 남아있는 결측치 값 처리\n",
        "\n",
        "-> 1.n개의 결측치를 평균 값으로 대체하는 방법 \n",
        " \n",
        "-> 2. 결측치값이 한개라도 있는 데이터를 삭제"
      ]
    },
    {
      "cell_type": "code",
      "metadata": {
        "colab": {
          "base_uri": "https://localhost:8080/"
        },
        "id": "gIYJmzKIxLVd",
        "outputId": "26135783-a1af-4845-cdbc-6f625017087b"
      },
      "source": [
        "bike_data.isnull().sum()"
      ],
      "execution_count": 35,
      "outputs": [
        {
          "output_type": "execute_result",
          "data": {
            "text/plain": [
              "대여일자         0\n",
              "대여시간         0\n",
              "대여소번호        0\n",
              "대여소명         0\n",
              "대여구분코드       0\n",
              "성별           0\n",
              "연령대코드        0\n",
              "이용건수         0\n",
              "운동량       4569\n",
              "탄소량       4569\n",
              "이동거리         0\n",
              "사용시간         0\n",
              "dtype: int64"
            ]
          },
          "metadata": {},
          "execution_count": 35
        }
      ]
    },
    {
      "cell_type": "code",
      "metadata": {
        "id": "scXdllTCx0I1"
      },
      "source": [
        "#1.운동량 결측치 값 평균값으로 대체\n",
        "mean_value = bike_data[\"운동량\"].mean()\n",
        "bike_data.fillna({\"운동량\":mean_value},inplace=True)"
      ],
      "execution_count": 36,
      "outputs": []
    },
    {
      "cell_type": "code",
      "metadata": {
        "id": "V6GpJOytyAoi"
      },
      "source": [
        "# 탄소량 결측치 값 데이터 삭제 방법 이용 \n",
        "bike_data.dropna(inplace=True)"
      ],
      "execution_count": 37,
      "outputs": []
    },
    {
      "cell_type": "code",
      "metadata": {
        "colab": {
          "base_uri": "https://localhost:8080/"
        },
        "id": "AYmQ2cuuyCOz",
        "outputId": "ce511d2d-4e0a-4387-d087-efeb360f5bc3"
      },
      "source": [
        "bike_data.isnull().sum()"
      ],
      "execution_count": 38,
      "outputs": [
        {
          "output_type": "execute_result",
          "data": {
            "text/plain": [
              "대여일자      0\n",
              "대여시간      0\n",
              "대여소번호     0\n",
              "대여소명      0\n",
              "대여구분코드    0\n",
              "성별        0\n",
              "연령대코드     0\n",
              "이용건수      0\n",
              "운동량       0\n",
              "탄소량       0\n",
              "이동거리      0\n",
              "사용시간      0\n",
              "dtype: int64"
            ]
          },
          "metadata": {},
          "execution_count": 38
        }
      ]
    },
    {
      "cell_type": "markdown",
      "metadata": {
        "id": "igTNTRQlyybJ"
      },
      "source": [
        "#3. 이상치 처리"
      ]
    },
    {
      "cell_type": "markdown",
      "metadata": {
        "id": "p0p3WGjby7Gt"
      },
      "source": [
        "1. IQR 기반의 이상치 찾기 \n",
        "\n",
        "(*이상치: 모델의 성능을 떨어뜨리는 불필요한 요소이므로 제거 필수!)\n",
        "\n",
        "-> IQR 활용한 이상치 함수 구현\n",
        "\n",
        "-> 원하는 column값 기준으로 이상치 찾기\n",
        "\n",
        "-> outliers 의 인덱스 값 이용하여 행 조회 \n",
        "\n",
        "-> 이상치 존재하는 행 제거하여 원본에 반영 "
      ]
    },
    {
      "cell_type": "code",
      "metadata": {
        "colab": {
          "base_uri": "https://localhost:8080/",
          "height": 319
        },
        "id": "Tm9vfZrT0tBd",
        "outputId": "117f570e-4699-4c6f-b02f-888904abb660"
      },
      "source": [
        "bike_data.describe()"
      ],
      "execution_count": 39,
      "outputs": [
        {
          "output_type": "execute_result",
          "data": {
            "text/html": [
              "<div>\n",
              "<style scoped>\n",
              "    .dataframe tbody tr th:only-of-type {\n",
              "        vertical-align: middle;\n",
              "    }\n",
              "\n",
              "    .dataframe tbody tr th {\n",
              "        vertical-align: top;\n",
              "    }\n",
              "\n",
              "    .dataframe thead th {\n",
              "        text-align: right;\n",
              "    }\n",
              "</style>\n",
              "<table border=\"1\" class=\"dataframe\">\n",
              "  <thead>\n",
              "    <tr style=\"text-align: right;\">\n",
              "      <th></th>\n",
              "      <th>대여시간</th>\n",
              "      <th>대여소번호</th>\n",
              "      <th>이용건수</th>\n",
              "      <th>운동량</th>\n",
              "      <th>탄소량</th>\n",
              "      <th>이동거리</th>\n",
              "      <th>사용시간</th>\n",
              "    </tr>\n",
              "  </thead>\n",
              "  <tbody>\n",
              "    <tr>\n",
              "      <th>count</th>\n",
              "      <td>714288.000000</td>\n",
              "      <td>714288.000000</td>\n",
              "      <td>714288.000000</td>\n",
              "      <td>714288.000000</td>\n",
              "      <td>714288.000000</td>\n",
              "      <td>714288.000000</td>\n",
              "      <td>714288.000000</td>\n",
              "    </tr>\n",
              "    <tr>\n",
              "      <th>mean</th>\n",
              "      <td>14.198370</td>\n",
              "      <td>1447.288182</td>\n",
              "      <td>1.089506</td>\n",
              "      <td>82.052553</td>\n",
              "      <td>0.708358</td>\n",
              "      <td>3053.298050</td>\n",
              "      <td>27.952880</td>\n",
              "    </tr>\n",
              "    <tr>\n",
              "      <th>std</th>\n",
              "      <td>5.245724</td>\n",
              "      <td>1015.104043</td>\n",
              "      <td>0.340697</td>\n",
              "      <td>117.619759</td>\n",
              "      <td>0.994735</td>\n",
              "      <td>4287.593558</td>\n",
              "      <td>33.114494</td>\n",
              "    </tr>\n",
              "    <tr>\n",
              "      <th>min</th>\n",
              "      <td>0.000000</td>\n",
              "      <td>3.000000</td>\n",
              "      <td>1.000000</td>\n",
              "      <td>0.000000</td>\n",
              "      <td>0.000000</td>\n",
              "      <td>0.000000</td>\n",
              "      <td>0.000000</td>\n",
              "    </tr>\n",
              "    <tr>\n",
              "      <th>25%</th>\n",
              "      <td>11.000000</td>\n",
              "      <td>601.000000</td>\n",
              "      <td>1.000000</td>\n",
              "      <td>21.090000</td>\n",
              "      <td>0.190000</td>\n",
              "      <td>802.147500</td>\n",
              "      <td>8.000000</td>\n",
              "    </tr>\n",
              "    <tr>\n",
              "      <th>50%</th>\n",
              "      <td>15.000000</td>\n",
              "      <td>1230.000000</td>\n",
              "      <td>1.000000</td>\n",
              "      <td>45.070000</td>\n",
              "      <td>0.390000</td>\n",
              "      <td>1694.905000</td>\n",
              "      <td>16.000000</td>\n",
              "    </tr>\n",
              "    <tr>\n",
              "      <th>75%</th>\n",
              "      <td>18.000000</td>\n",
              "      <td>2113.000000</td>\n",
              "      <td>1.000000</td>\n",
              "      <td>96.050000</td>\n",
              "      <td>0.830000</td>\n",
              "      <td>3590.330000</td>\n",
              "      <td>36.000000</td>\n",
              "    </tr>\n",
              "    <tr>\n",
              "      <th>max</th>\n",
              "      <td>23.000000</td>\n",
              "      <td>9999.000000</td>\n",
              "      <td>14.000000</td>\n",
              "      <td>8621.750000</td>\n",
              "      <td>57.630000</td>\n",
              "      <td>248420.000000</td>\n",
              "      <td>1753.000000</td>\n",
              "    </tr>\n",
              "  </tbody>\n",
              "</table>\n",
              "</div>"
            ],
            "text/plain": [
              "                대여시간          대여소번호  ...           이동거리           사용시간\n",
              "count  714288.000000  714288.000000  ...  714288.000000  714288.000000\n",
              "mean       14.198370    1447.288182  ...    3053.298050      27.952880\n",
              "std         5.245724    1015.104043  ...    4287.593558      33.114494\n",
              "min         0.000000       3.000000  ...       0.000000       0.000000\n",
              "25%        11.000000     601.000000  ...     802.147500       8.000000\n",
              "50%        15.000000    1230.000000  ...    1694.905000      16.000000\n",
              "75%        18.000000    2113.000000  ...    3590.330000      36.000000\n",
              "max        23.000000    9999.000000  ...  248420.000000    1753.000000\n",
              "\n",
              "[8 rows x 7 columns]"
            ]
          },
          "metadata": {},
          "execution_count": 39
        }
      ]
    },
    {
      "cell_type": "code",
      "metadata": {
        "colab": {
          "base_uri": "https://localhost:8080/",
          "height": 483
        },
        "id": "vsReQBkv7TTk",
        "outputId": "b562f015-8025-4dbb-cb23-434155011598"
      },
      "source": [
        "plt.figure(figsize=(12,8))\n",
        "sns.boxplot(data = bike_data[\"운동량\"], color = 'red')\n",
        "plt.show()"
      ],
      "execution_count": 40,
      "outputs": [
        {
          "output_type": "display_data",
          "data": {
            "image/png": "[encoded data removed]",
            "text/plain": [
              "<Figure size 864x576 with 1 Axes>"
            ]
          },
          "metadata": {
            "needs_background": "light"
          }
        }
      ]
    },
    {
      "cell_type": "code",
      "metadata": {
        "id": "MGCT5m5_1M9K"
      },
      "source": [
        "# IQR 활용한 이상치 함수 구현\n",
        "def outliers_iqr(data):\n",
        "  q1 = np.percentile(data,25)\n",
        "  q3 = np.percentile(data,75)\n",
        "  iqr = q3-q1\n",
        "  min_bound = q1 -(iqr * 1.5)\n",
        "  max_bound = q3 + (iqr * 1.5)\n",
        "  return data [(data > max_bound) | (data < min_bound)].index\n",
        "  # 제거해야할 이상치 값을 return"
      ],
      "execution_count": 41,
      "outputs": []
    },
    {
      "cell_type": "code",
      "metadata": {
        "colab": {
          "base_uri": "https://localhost:8080/"
        },
        "id": "v8MZp7-z2R_G",
        "outputId": "e144bdb6-9040-4b68-e338-f214f4c593ec"
      },
      "source": [
        "# '운동량' 컬럼 값 기준으로 이상치 찾기\n",
        "idx = outliers_iqr(bike_data[\"운동량\"])\n",
        "bike_data.loc[idx,\"운동량\"]"
      ],
      "execution_count": 42,
      "outputs": [
        {
          "output_type": "execute_result",
          "data": {
            "text/plain": [
              "34        211.48\n",
              "41        478.03\n",
              "45        296.28\n",
              "46        226.85\n",
              "183       295.63\n",
              "           ...  \n",
              "718848    586.40\n",
              "718852    916.66\n",
              "718853    492.87\n",
              "718854    348.43\n",
              "718856    223.71\n",
              "Name: 운동량, Length: 65672, dtype: float64"
            ]
          },
          "metadata": {},
          "execution_count": 42
        }
      ]
    },
    {
      "cell_type": "code",
      "metadata": {
        "id": "W0FxIDVw3Y6R"
      },
      "source": [
        "bike_data = bike_data.drop(idx, axis=0)\n",
        "# 이상치 값 삭제"
      ],
      "execution_count": 43,
      "outputs": []
    },
    {
      "cell_type": "code",
      "metadata": {
        "colab": {
          "base_uri": "https://localhost:8080/",
          "height": 483
        },
        "id": "r0MIZHz-5W3M",
        "outputId": "64379991-3435-4dc3-8cc7-8d5b97632a1a"
      },
      "source": [
        "plt.figure(figsize=(12,8))\n",
        "sns.boxplot(data = bike_data[\"운동량\"], color = 'red')\n",
        "plt.show()"
      ],
      "execution_count": 45,
      "outputs": [
        {
          "output_type": "display_data",
          "data": {
            "image/png": "[encoded data removed]",
            "text/plain": [
              "<Figure size 864x576 with 1 Axes>"
            ]
          },
          "metadata": {
            "needs_background": "light"
          }
        }
      ]
    }
  ]
}